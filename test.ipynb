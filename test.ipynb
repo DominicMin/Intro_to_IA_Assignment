{
 "cells": [
  {
   "cell_type": "code",
   "execution_count": null,
   "id": "e9a2863d",
   "metadata": {},
   "outputs": [],
   "source": [
    "test={\n",
    "    \"Mamak\":{\n",
    "        \"type\":\"resturant\",\n",
    "        \"Location\":\"Bell\",\n",
    "        \"time\":\"24h\",\n",
    "        \"recommend\":[\"teh o lemon ais\"],\n",
    "        \"price\":\"medium\"\n",
    "    },\n",
    "    \"A3\":{\n",
    "        \"type\":\"library\",\n",
    "        \"location\":\" \",\n",
    "        \"time\":{\n",
    "        }\n",
    "    }\n",
    "}"
   ]
  }
 ],
 "metadata": {
  "kernelspec": {
   "display_name": "Python 3",
   "language": "python",
   "name": "python3"
  },
  "language_info": {
   "name": "python",
   "version": "3.12.6"
  }
 },
 "nbformat": 4,
 "nbformat_minor": 5
}
