{
 "cells": [
  {
   "cell_type": "code",
   "execution_count": null,
   "id": "e9a2863d",
   "metadata": {},
   "outputs": [],
   "source": [
    "test={\n",
    "    \"Nasi Kandar\":{\n",
    "        \"type\":\"resturant\",\n",
    "        \"Location\":\"Bell\",# Can include coordinates in the future\n",
    "        \"time\":\"24h\",# May switch to datetime library\n",
    "        \"recommend\":[\"Teh O Lemon Ais\",\"Indomee Ayam\"],\n",
    "        \"price\":\"medium\"\n",
    "    },\n",
    "    \"Library\":{\n",
    "        \"type\":\"study area\",\n",
    "        \"location\":\"A3\",\n",
    "        \"time\":{\n",
    "            \"Monday to Friday\":\"9am-10pm\",\n",
    "            \"Weekend and Public Holidays\":\"9am-5pm\"\n",
    "        }\n",
    "    }\n",
    "}"
   ]
  }
 ],
 "metadata": {
  "kernelspec": {
   "display_name": "Python 3",
   "language": "python",
   "name": "python3"
  },
  "language_info": {
   "name": "python",
   "version": "3.12.6"
  }
 },
 "nbformat": 4,
 "nbformat_minor": 5
}
