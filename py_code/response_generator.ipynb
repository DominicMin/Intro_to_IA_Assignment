{
 "cells": [
  {
   "cell_type": "code",
   "execution_count": null,
   "metadata": {},
   "outputs": [],
   "source": [
    "from templates import match_template, Templates\n",
    "import json"
   ]
  },
  {
   "cell_type": "code",
   "execution_count": 6,
   "metadata": {},
   "outputs": [
    {
     "data": {
      "text/plain": [
       "'Great question! None includes: None'"
      ]
     },
     "execution_count": 6,
     "metadata": {},
     "output_type": "execute_result"
    }
   ],
   "source": [
    "Templates[\"ask_building_include\"][\"positive\"]"
   ]
  },
  {
   "cell_type": "code",
   "execution_count": 7,
   "metadata": {},
   "outputs": [],
   "source": [
    "class ResponseGenerator:\n",
    "    def __init__(self):\n",
    "        self.database = json.load(open(\"data/extracted_json/ALL.json\", encoding=\"utf-8\"))\n",
    "        self.templates = Templates\n",
    "    \n",
    "    def search_info(self, interpreted_dict):\n",
    "        intent = interpreted_dict[\"intent\"]\n",
    "        entity = interpreted_dict[\"entities\"][0] # entities is a dictionary\n",
    "        info_to_search = self.templates[intent][\"info\"]\n",
    "        ans = {info: None for info in info_to_search}\n",
    "        entity_info = self.database[entity]\n",
    "        for info in info_to_search:\n",
    "            if info in entity_info.keys():\n",
    "                ans[info] = entity_info[info]\n",
    "        return ans\n",
    "    \n",
    "    def generate_response(self, interpreted_dict):\n",
    "        info = self.search_info(interpreted_dict)\n",
    "        sentiment = interpreted_dict[\"sentiment\"]\n",
    "        intent = interpreted_dict[\"intent\"]\n",
    "        return match_template(intent, sentiment, info)"
   ]
  },
  {
   "cell_type": "code",
   "execution_count": null,
   "metadata": {},
   "outputs": [],
   "source": []
  }
 ],
 "metadata": {
  "kernelspec": {
   "display_name": "Python 3",
   "language": "python",
   "name": "python3"
  },
  "language_info": {
   "codemirror_mode": {
    "name": "ipython",
    "version": 3
   },
   "file_extension": ".py",
   "mimetype": "text/x-python",
   "name": "python",
   "nbconvert_exporter": "python",
   "pygments_lexer": "ipython3",
   "version": "3.12.6"
  }
 },
 "nbformat": 4,
 "nbformat_minor": 2
}
