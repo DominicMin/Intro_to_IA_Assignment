{
 "cells": [
  {
   "cell_type": "markdown",
   "metadata": {},
   "source": [
    "### Load train data"
   ]
  },
  {
   "cell_type": "code",
   "execution_count": 4,
   "metadata": {},
   "outputs": [],
   "source": [
    "import json\n",
    "import pandas as pd\n",
    "from tqdm.auto import tqdm"
   ]
  },
  {
   "cell_type": "code",
   "execution_count": 5,
   "metadata": {},
   "outputs": [],
   "source": [
    "with open(\"data/train_data/entity_train_data.json\",\"r\",encoding=\"utf-8\") as f:\n",
    "    entity_train_data=json.load(f)"
   ]
  },
  {
   "cell_type": "code",
   "execution_count": 6,
   "metadata": {},
   "outputs": [
    {
     "data": {
      "text/plain": [
       "{'query': [\"What's the menu of 夏1城?\",\n",
       "  'Can I order from 夏1城 for delivery?',\n",
       "  'Where is 夏1城 located on campus?'],\n",
       " 'entities': [{'entity_text': '夏1城', 'entity_label': 'restaurant_name'}]}"
      ]
     },
     "execution_count": 6,
     "metadata": {},
     "output_type": "execute_result"
    }
   ],
   "source": [
    "test=entity_train_data[\"restaurant\"][0]\n",
    "test"
   ]
  },
  {
   "cell_type": "code",
   "execution_count": 21,
   "metadata": {},
   "outputs": [
    {
     "data": {
      "text/html": [
       "<div>\n",
       "<style scoped>\n",
       "    .dataframe tbody tr th:only-of-type {\n",
       "        vertical-align: middle;\n",
       "    }\n",
       "\n",
       "    .dataframe tbody tr th {\n",
       "        vertical-align: top;\n",
       "    }\n",
       "\n",
       "    .dataframe thead th {\n",
       "        text-align: right;\n",
       "    }\n",
       "</style>\n",
       "<table border=\"1\" class=\"dataframe\">\n",
       "  <thead>\n",
       "    <tr style=\"text-align: right;\">\n",
       "      <th></th>\n",
       "      <th>entity_text</th>\n",
       "      <th>entity_label</th>\n",
       "      <th>query</th>\n",
       "      <th>index</th>\n",
       "    </tr>\n",
       "  </thead>\n",
       "  <tbody>\n",
       "    <tr>\n",
       "      <th>0</th>\n",
       "      <td>KK便利店</td>\n",
       "      <td>business_name</td>\n",
       "      <td>Where is KK便利店 located?</td>\n",
       "      <td>0</td>\n",
       "    </tr>\n",
       "    <tr>\n",
       "      <th>1</th>\n",
       "      <td>KK便利店</td>\n",
       "      <td>business_name</td>\n",
       "      <td>Can I buy snacks at KK便利店?</td>\n",
       "      <td>1</td>\n",
       "    </tr>\n",
       "    <tr>\n",
       "      <th>2</th>\n",
       "      <td>KK便利店</td>\n",
       "      <td>business_name</td>\n",
       "      <td>What are the operating hours of KK便利店?</td>\n",
       "      <td>2</td>\n",
       "    </tr>\n",
       "    <tr>\n",
       "      <th>3</th>\n",
       "      <td>KIMS SALON</td>\n",
       "      <td>business_name</td>\n",
       "      <td>What is the phone number of KIMS SALON?</td>\n",
       "      <td>3</td>\n",
       "    </tr>\n",
       "    <tr>\n",
       "      <th>4</th>\n",
       "      <td>KIMS SALON</td>\n",
       "      <td>business_name</td>\n",
       "      <td>I am looking for a haircut at KIMS SALON.</td>\n",
       "      <td>4</td>\n",
       "    </tr>\n",
       "    <tr>\n",
       "      <th>...</th>\n",
       "      <td>...</td>\n",
       "      <td>...</td>\n",
       "      <td>...</td>\n",
       "      <td>...</td>\n",
       "    </tr>\n",
       "    <tr>\n",
       "      <th>340</th>\n",
       "      <td>Contact Information</td>\n",
       "      <td>handbook_topic</td>\n",
       "      <td>How do I find the Contact Information for univ...</td>\n",
       "      <td>340</td>\n",
       "    </tr>\n",
       "    <tr>\n",
       "      <th>341</th>\n",
       "      <td>Contact Information</td>\n",
       "      <td>handbook_topic</td>\n",
       "      <td>What is the Contact Information for student se...</td>\n",
       "      <td>341</td>\n",
       "    </tr>\n",
       "    <tr>\n",
       "      <th>342</th>\n",
       "      <td>Contact Information</td>\n",
       "      <td>handbook_topic</td>\n",
       "      <td>Where can I get the Contact Information for ac...</td>\n",
       "      <td>342</td>\n",
       "    </tr>\n",
       "    <tr>\n",
       "      <th>343</th>\n",
       "      <td>Clubs and Societies at XMUM</td>\n",
       "      <td>handbook_topic</td>\n",
       "      <td>What are the activities offered by Clubs and S...</td>\n",
       "      <td>343</td>\n",
       "    </tr>\n",
       "    <tr>\n",
       "      <th>344</th>\n",
       "      <td>Clubs and Societies at XMUM</td>\n",
       "      <td>handbook_topic</td>\n",
       "      <td>Can I find information about sports teams in C...</td>\n",
       "      <td>344</td>\n",
       "    </tr>\n",
       "  </tbody>\n",
       "</table>\n",
       "<p>345 rows × 4 columns</p>\n",
       "</div>"
      ],
      "text/plain": [
       "                     entity_text    entity_label  \\\n",
       "0                          KK便利店   business_name   \n",
       "1                          KK便利店   business_name   \n",
       "2                          KK便利店   business_name   \n",
       "3                     KIMS SALON   business_name   \n",
       "4                     KIMS SALON   business_name   \n",
       "..                           ...             ...   \n",
       "340          Contact Information  handbook_topic   \n",
       "341          Contact Information  handbook_topic   \n",
       "342          Contact Information  handbook_topic   \n",
       "343  Clubs and Societies at XMUM  handbook_topic   \n",
       "344  Clubs and Societies at XMUM  handbook_topic   \n",
       "\n",
       "                                                 query  index  \n",
       "0                              Where is KK便利店 located?      0  \n",
       "1                           Can I buy snacks at KK便利店?      1  \n",
       "2               What are the operating hours of KK便利店?      2  \n",
       "3              What is the phone number of KIMS SALON?      3  \n",
       "4            I am looking for a haircut at KIMS SALON.      4  \n",
       "..                                                 ...    ...  \n",
       "340  How do I find the Contact Information for univ...    340  \n",
       "341  What is the Contact Information for student se...    341  \n",
       "342  Where can I get the Contact Information for ac...    342  \n",
       "343  What are the activities offered by Clubs and S...    343  \n",
       "344  Can I find information about sports teams in C...    344  \n",
       "\n",
       "[345 rows x 4 columns]"
      ]
     },
     "execution_count": 21,
     "metadata": {},
     "output_type": "execute_result"
    }
   ],
   "source": [
    "def construct_data(data_item):\n",
    "    temp={\n",
    "        'entity_text': [entity['entity_text'] for entity in data_item['entities']]*len(data_item['query']),  \n",
    "        'entity_label': [entity['entity_label'] for entity in data_item['entities']]*len(data_item['query']),\n",
    "        'query': data_item['query']\n",
    "    }\n",
    "    temp=pd.DataFrame(temp)\n",
    "    return temp\n",
    "train_df=pd.DataFrame()\n",
    "for v in entity_train_data.values():\n",
    "    for data_item in v:\n",
    "        train_df=pd.concat([train_df,construct_data(data_item)],ignore_index=True)\n",
    "train_df[\"index\"]=train_df.index\n",
    "train_df"
   ]
  },
  {
   "cell_type": "code",
   "execution_count": 8,
   "metadata": {},
   "outputs": [],
   "source": [
    "train_df.to_csv(\"data/train_data/entity_train_data.csv\",index=False)"
   ]
  },
  {
   "cell_type": "markdown",
   "metadata": {},
   "source": [
    "### Train entity recognition model"
   ]
  },
  {
   "cell_type": "markdown",
   "metadata": {},
   "source": [
    "#### Load and process train data"
   ]
  },
  {
   "cell_type": "markdown",
   "metadata": {},
   "source": [
    "`spaCy` needs specific tuple data format: `(\"QUERY\", {\"entities\":[(start, end, \"LABEL\")...]})`.\n",
    "\n",
    "So we need to convert train data to that format."
   ]
  },
  {
   "cell_type": "code",
   "execution_count": 33,
   "metadata": {},
   "outputs": [],
   "source": [
    "def convert_to_spacy_format(data_item):\n",
    "    temp=[]\n",
    "    try:\n",
    "        start=data_item['query'].index(data_item['entity_text'])\n",
    "        end=start+len(data_item['entity_text'])\n",
    "        temp.append((data_item[\"query\"], {\"entities\":[(start, end, data_item['entity_label'])]}))\n",
    "    except:\n",
    "        print(f\"Error at index {data_item['index']}: {data_item['query']} {data_item['entity_text']} {data_item['entity_label']}\")\n",
    "        return None\n",
    "    return temp"
   ]
  },
  {
   "cell_type": "code",
   "execution_count": 34,
   "metadata": {},
   "outputs": [
    {
     "name": "stdout",
     "output_type": "stream",
     "text": [
      "Error at index 22: Where is the Peoples Bookstore located? 人民书局 business_name\n",
      "Error at index 23: Is Peoples Bookstore open on weekends? 人民书局 business_name\n",
      "Error at index 24: Can I find English books at Peoples Bookstore? 人民书局 business_name\n",
      "Error at index 41: What is the menu at Let's Kopitiam? Let's kopitiam restaurant_name\n",
      "Error at index 42: I love their dishes at Let's Kopitiam. Let's kopitiam restaurant_name\n",
      "Error at index 43: Does Let's Kopitiam have any promotions? Let's kopitiam restaurant_name\n",
      "Error at index 54: What are the reviews about the food at 大城小厶? 大城小厨 restaurant_name\n",
      "Error at index 113: What is the address of Chinese Muslim Sizzling Wok? 中国會星尊绋 restaurant_name\n",
      "Error at index 114: Can I book a table at Chinese Muslim Sizzling Wok for tonight? 中国會星尊绋 restaurant_name\n",
      "Error at index 115: I love their food, what time does Chinese Muslim Sizzling Wok open? 中国會星尊绋 restaurant_name\n",
      "Error at index 144: How late is 啵啑啡魚泡泡鸡PaoPaoPot open? 啵啵鱼泡泡鸡PaoPaoPot restaurant_name\n",
      "Error at index 148: What is the address of the restaurant ? 秀海福麻辣烫 restaurant_name\n",
      "Error at index 151: I want to buy a voucher for Moxie, can you help me? 蜜雪冰城MIXUE restaurant_name\n",
      "Error at index 152: Is Moxie still open on weekdays? 蜜雪冰城MIXUE restaurant_name\n",
      "Error at index 153: What are the promotions of Moxie this month? 蜜雪冰城MIXUE restaurant_name\n",
      "Error at index 289: I'm looking for KTV places near my dorm KTV Near XMUM handbook_topic\n",
      "Error at index 290: What are the popular KTVs around XMUM? KTV Near XMUM handbook_topic\n",
      "Error at index 291: Can someone recommend a good KTV spot near our university? KTV Near XMUM handbook_topic\n",
      "Error at index 298: I want to find a place that serves great milk tea near Xiamen University Malaysia Milk Tea Shops Near XMUM handbook_topic\n",
      "Error at index 299: Can you recommend some good milk tea shops around XMUM campus Milk Tea Shops Near XMUM handbook_topic\n",
      "Error at index 310: How do I use the Laundry and Drying Machines? Use Laundry and Drying Machines handbook_topic\n",
      "Error at index 311: What is the process of using Laundry and Drying Machines? Use Laundry and Drying Machines handbook_topic\n",
      "Error at index 325: How do I view my timetable online View Timetable handbook_topic\n",
      "Error at index 327: How do I register for courses? Course Registration handbook_topic\n",
      "Error at index 328: When is the course registration deadline? Course Registration handbook_topic\n"
     ]
    }
   ],
   "source": [
    "spacy_train_data=train_df.apply(convert_to_spacy_format,axis=1)"
   ]
  },
  {
   "cell_type": "code",
   "execution_count": 46,
   "metadata": {},
   "outputs": [
    {
     "data": {
      "text/plain": [
       "0      [(Where is KK便利店 located?, {'entities': [(9, 1...\n",
       "1      [(Can I buy snacks at KK便利店?, {'entities': [(2...\n",
       "2      [(What are the operating hours of KK便利店?, {'en...\n",
       "3      [(What is the phone number of KIMS SALON?, {'e...\n",
       "4      [(I am looking for a haircut at KIMS SALON., {...\n",
       "                             ...                        \n",
       "340    [(How do I find the Contact Information for un...\n",
       "341    [(What is the Contact Information for student ...\n",
       "342    [(Where can I get the Contact Information for ...\n",
       "343    [(What are the activities offered by Clubs and...\n",
       "344    [(Can I find information about sports teams in...\n",
       "Length: 320, dtype: object"
      ]
     },
     "execution_count": 46,
     "metadata": {},
     "output_type": "execute_result"
    }
   ],
   "source": [
    "spacy_train_data.dropna(inplace=True)\n",
    "spacy_train_data"
   ]
  },
  {
   "cell_type": "code",
   "execution_count": 49,
   "metadata": {},
   "outputs": [
    {
     "data": {
      "text/plain": [
       "list"
      ]
     },
     "execution_count": 49,
     "metadata": {},
     "output_type": "execute_result"
    }
   ],
   "source": [
    "type(spacy_train_data[0])"
   ]
  },
  {
   "cell_type": "code",
   "execution_count": 40,
   "metadata": {},
   "outputs": [],
   "source": [
    "spacy_train_data.to_csv(\"data/train_data/spacy_entity_train_data.csv\",index=False)"
   ]
  },
  {
   "cell_type": "markdown",
   "metadata": {},
   "source": [
    "#### Train a `spaCy` model"
   ]
  },
  {
   "cell_type": "code",
   "execution_count": 37,
   "metadata": {},
   "outputs": [],
   "source": [
    "import spacy\n",
    "from spacy.training import Example\n",
    "from spacy.util import minibatch, compounding\n",
    "import random"
   ]
  },
  {
   "cell_type": "code",
   "execution_count": 42,
   "metadata": {},
   "outputs": [],
   "source": [
    "entity_recognizer=spacy.blank(\"en\")"
   ]
  },
  {
   "cell_type": "code",
   "execution_count": 43,
   "metadata": {},
   "outputs": [],
   "source": [
    "if \"ner\" not in entity_recognizer.pipe_names:\n",
    "    ner = entity_recognizer.add_pipe(\"ner\", last=True)"
   ]
  },
  {
   "cell_type": "code",
   "execution_count": 66,
   "metadata": {},
   "outputs": [],
   "source": [
    "final_train_data=[]\n",
    "for data_item in spacy_train_data:\n",
    "    final_train_data.extend(data_item)"
   ]
  },
  {
   "cell_type": "code",
   "execution_count": 68,
   "metadata": {},
   "outputs": [
    {
     "name": "stdout",
     "output_type": "stream",
     "text": [
      "Added label: business_name\n",
      "Added label: restaurant_name\n",
      "Added label: facility_name\n",
      "Added label: building_name\n",
      "Added label: handbook_topic\n",
      "\n",
      "Added 5 labels: {'restaurant_name', 'facility_name', 'building_name', 'handbook_topic', 'business_name'}\n"
     ]
    }
   ],
   "source": [
    "labels_added = set()\n",
    "for data_item in final_train_data:\n",
    "    query, annotation = data_item\n",
    "    for ent in annotation.get(\"entities\", []):\n",
    "        label = ent[2] \n",
    "        if label not in labels_added:\n",
    "            ner.add_label(label)\n",
    "            labels_added.add(label)\n",
    "            print(f\"Added label: {label}\")\n",
    "\n",
    "print(f\"\\nAdded {len(labels_added)} labels: {labels_added}\")\n"
   ]
  },
  {
   "cell_type": "code",
   "execution_count": 71,
   "metadata": {},
   "outputs": [
    {
     "name": "stdout",
     "output_type": "stream",
     "text": [
      "Training entity recognizer...\n"
     ]
    },
    {
     "name": "stderr",
     "output_type": "stream",
     "text": [
      "c:\\Users\\DominicMin\\AppData\\Local\\Programs\\Python\\Python312\\Lib\\site-packages\\spacy\\training\\iob_utils.py:149: UserWarning: [W030] Some entities could not be aligned in the text \"How far is秀海福麻辣烫 from my dorm?\" with entities \"[(10, 16, 'restaurant_name')]\". Use `spacy.training.offsets_to_biluo_tags(nlp.make_doc(text), entities)` to check the alignment. Misaligned entities ('-') will be ignored during training.\n",
      "  warnings.warn(\n",
      "c:\\Users\\DominicMin\\AppData\\Local\\Programs\\Python\\Python312\\Lib\\site-packages\\spacy\\training\\iob_utils.py:149: UserWarning: [W030] Some entities could not be aligned in the text \"Is there a discount at秀海福麻辣烫?\" with entities \"[(22, 28, 'restaurant_name')]\". Use `spacy.training.offsets_to_biluo_tags(nlp.make_doc(text), entities)` to check the alignment. Misaligned entities ('-') will be ignored during training.\n",
      "  warnings.warn(\n"
     ]
    },
    {
     "name": "stdout",
     "output_type": "stream",
     "text": [
      "Iteration 0, loss: {'ner': 756.923224181857}\n",
      "Iteration 1, loss: {'ner': 362.7646831630668}\n",
      "Iteration 2, loss: {'ner': 99.99888387987188}\n",
      "Iteration 3, loss: {'ner': 33.007253018469484}\n",
      "Iteration 4, loss: {'ner': 10.259407063499822}\n",
      "Iteration 5, loss: {'ner': 0.04959470595438095}\n",
      "Iteration 6, loss: {'ner': 0.018940685107898758}\n",
      "Iteration 7, loss: {'ner': 5.136161576557317e-05}\n",
      "Iteration 8, loss: {'ner': 8.275047059479117e-05}\n",
      "Iteration 9, loss: {'ner': 4.346378509956001e-06}\n",
      "Iteration 10, loss: {'ner': 4.82890302485067e-06}\n",
      "Iteration 11, loss: {'ner': 3.380761885218649e-05}\n",
      "Iteration 12, loss: {'ner': 1.794749709246132e-06}\n",
      "Iteration 13, loss: {'ner': 2.555594527662854e-06}\n",
      "Iteration 14, loss: {'ner': 2.7151037501189987e-07}\n",
      "Iteration 15, loss: {'ner': 1.9789654765424434e-06}\n",
      "Iteration 16, loss: {'ner': 3.1111996312097046e-07}\n",
      "Iteration 17, loss: {'ner': 1.3391124106149046e-06}\n",
      "Iteration 18, loss: {'ner': 2.331401182585845e-06}\n",
      "Iteration 19, loss: {'ner': 3.9513446238563235e-07}\n",
      "Iteration 20, loss: {'ner': 1.7852524006670293e-07}\n",
      "Iteration 21, loss: {'ner': 4.7079785262342424e-07}\n",
      "Iteration 22, loss: {'ner': 1.2485204766045958e-06}\n",
      "Iteration 23, loss: {'ner': 1.5074277090492053e-07}\n",
      "Iteration 24, loss: {'ner': 5.117776082314984e-07}\n",
      "Iteration 25, loss: {'ner': 2.816656925201757e-07}\n",
      "Iteration 26, loss: {'ner': 6.273185133380165e-08}\n",
      "Iteration 27, loss: {'ner': 5.8113918829479e-07}\n",
      "Iteration 28, loss: {'ner': 2.2023551186436878e-06}\n",
      "Iteration 29, loss: {'ner': 1.360690722377454e-07}\n",
      "Iteration 30, loss: {'ner': 9.489467434318875e-08}\n",
      "Iteration 31, loss: {'ner': 2.1300642916111024e-07}\n",
      "Iteration 32, loss: {'ner': 1.5002175861507677e-06}\n",
      "Iteration 33, loss: {'ner': 4.6239257698086313e-08}\n",
      "Iteration 34, loss: {'ner': 4.163466879307216e-06}\n",
      "Iteration 35, loss: {'ner': 1.957226828530611e-07}\n",
      "Iteration 36, loss: {'ner': 7.757127637178072e-08}\n",
      "Iteration 37, loss: {'ner': 6.309876476559596e-08}\n",
      "Iteration 38, loss: {'ner': 5.3606096093029815e-08}\n",
      "Iteration 39, loss: {'ner': 5.296868557090814e-08}\n",
      "Iteration 40, loss: {'ner': 1.251630167113781e-07}\n",
      "Iteration 41, loss: {'ner': 2.252788858437412e-08}\n",
      "Iteration 42, loss: {'ner': 2.4519853727675427e-08}\n",
      "Iteration 43, loss: {'ner': 2.999696689600091e-08}\n",
      "Iteration 44, loss: {'ner': 3.590070015072509e-08}\n",
      "Iteration 45, loss: {'ner': 2.629209219081918e-08}\n",
      "Iteration 46, loss: {'ner': 1.5277906932703854e-08}\n",
      "Iteration 47, loss: {'ner': 2.785489673372904e-08}\n",
      "Iteration 48, loss: {'ner': 1.6135140694070136e-07}\n",
      "Iteration 49, loss: {'ner': 7.28368593565536e-08}\n",
      "Iteration 50, loss: {'ner': 3.715656100103736e-08}\n",
      "Iteration 51, loss: {'ner': 9.076646813316285e-08}\n",
      "Iteration 52, loss: {'ner': 5.61942760340499e-08}\n",
      "Iteration 53, loss: {'ner': 1.3660589324086325e-08}\n",
      "Iteration 54, loss: {'ner': 5.2519501426478256e-08}\n",
      "Iteration 55, loss: {'ner': 9.975856819342282e-09}\n",
      "Iteration 56, loss: {'ner': 3.286096905951981e-08}\n",
      "Iteration 57, loss: {'ner': 1.3282610491565488e-07}\n",
      "Iteration 58, loss: {'ner': 2.4526882410012698e-08}\n",
      "Iteration 59, loss: {'ner': 5.767236850982632e-09}\n",
      "Iteration 60, loss: {'ner': 1.686162332467219e-08}\n",
      "Iteration 61, loss: {'ner': 4.60957379454059e-09}\n",
      "Iteration 62, loss: {'ner': 3.866332809877227e-08}\n",
      "Iteration 63, loss: {'ner': 1.7791632436530456e-08}\n",
      "Iteration 64, loss: {'ner': 5.057593014349148e-09}\n",
      "Iteration 65, loss: {'ner': 9.451334502043896e-09}\n",
      "Iteration 66, loss: {'ner': 6.832494085511829e-08}\n",
      "Iteration 67, loss: {'ner': 3.311504277184344e-09}\n",
      "Iteration 68, loss: {'ner': 7.605916427045307e-09}\n",
      "Iteration 69, loss: {'ner': 9.52520639388617e-09}\n",
      "Iteration 70, loss: {'ner': 1.0587121541529403e-08}\n",
      "Iteration 71, loss: {'ner': 6.716466662859991e-09}\n",
      "Iteration 72, loss: {'ner': 6.630010978606775e-09}\n",
      "Iteration 73, loss: {'ner': 4.731816459100221e-09}\n",
      "Iteration 74, loss: {'ner': 4.210855708460932e-09}\n",
      "Iteration 75, loss: {'ner': 9.789556659998572e-10}\n",
      "Iteration 76, loss: {'ner': 3.2695498450729066e-09}\n",
      "Iteration 77, loss: {'ner': 1.884919653357444e-08}\n",
      "Iteration 78, loss: {'ner': 1.3217016534906612e-08}\n",
      "Iteration 79, loss: {'ner': 2.4448843036066494e-09}\n",
      "Iteration 80, loss: {'ner': 5.128526143927076e-09}\n",
      "Iteration 81, loss: {'ner': 1.1954372040299858e-09}\n",
      "Iteration 82, loss: {'ner': 2.0551287283547904e-08}\n",
      "Iteration 83, loss: {'ner': 1.1302698364719636e-09}\n",
      "Iteration 84, loss: {'ner': 1.7059162081218092e-09}\n",
      "Iteration 85, loss: {'ner': 7.792753423194975e-10}\n",
      "Iteration 86, loss: {'ner': 4.15796991261222e-09}\n",
      "Iteration 87, loss: {'ner': 2.904568243695681e-09}\n",
      "Iteration 88, loss: {'ner': 7.886061713839306e-10}\n",
      "Iteration 89, loss: {'ner': 1.8331609970076003e-09}\n",
      "Iteration 90, loss: {'ner': 8.201711469034737e-09}\n",
      "Iteration 91, loss: {'ner': 2.701415031345433e-09}\n",
      "Iteration 92, loss: {'ner': 5.3689313879918195e-09}\n",
      "Iteration 93, loss: {'ner': 3.0630132310721675e-08}\n",
      "Iteration 94, loss: {'ner': 2.193444700461515e-09}\n",
      "Iteration 95, loss: {'ner': 2.8709163406867045e-10}\n",
      "Iteration 96, loss: {'ner': 2.2182940815255793e-09}\n",
      "Iteration 97, loss: {'ner': 1.700199644191548e-08}\n",
      "Iteration 98, loss: {'ner': 3.9386606891786265e-10}\n",
      "Iteration 99, loss: {'ner': 8.843633352113898e-10}\n",
      "Training completed!\n"
     ]
    }
   ],
   "source": [
    "print(\"Training entity recognizer...\")\n",
    "\n",
    "# 修复：使用initialize()替代begin_training()\n",
    "entity_recognizer.initialize()\n",
    "optimizer = entity_recognizer.create_optimizer()\n",
    "\n",
    "for i in range(100):\n",
    "    random.shuffle(final_train_data)\n",
    "    losses = {}\n",
    "\n",
    "    batches = minibatch(final_train_data, size=compounding(4.0, 32.0, 1.001))\n",
    "    for batch in batches:\n",
    "        examples = []\n",
    "        for text, annotations in batch:\n",
    "            doc = entity_recognizer.make_doc(text)\n",
    "            example = Example.from_dict(doc, annotations)\n",
    "            examples.append(example)\n",
    "        \n",
    "        # 修复：只传递examples参数，losses作为关键字参数\n",
    "        entity_recognizer.update(examples, losses=losses)\n",
    "    \n",
    "    print(f\"Iteration {i+1}, loss: {losses}\")\n",
    "\n",
    "print(\"Training completed!\")\n",
    "    "
   ]
  },
  {
   "cell_type": "code",
   "execution_count": 72,
   "metadata": {},
   "outputs": [
    {
     "name": "stdout",
     "output_type": "stream",
     "text": [
      "Model saved to data/trained_model/entity_recognizer\n"
     ]
    }
   ],
   "source": [
    "# 保存训练好的模型\n",
    "entity_recognizer.to_disk(\"data/trained_model/entity_recognizer\")\n",
    "print(\"Model saved to data/trained_model/entity_recognizer\")\n"
   ]
  },
  {
   "cell_type": "code",
   "execution_count": 73,
   "metadata": {},
   "outputs": [
    {
     "name": "stdout",
     "output_type": "stream",
     "text": [
      "测试实体识别结果:\n",
      "\n",
      "文本: Where is KK便利店 located?\n",
      "  实体: 'KK便利店' -> 标签: business_name\n",
      "\n",
      "文本: I want to go to A3图书馆 tomorrow morning\n",
      "  实体: 'A3图书馆' -> 标签: restaurant_name\n",
      "\n",
      "文本: What time does 星巴克STARBUCKS open?\n",
      "  实体: '星巴克STARBUCKS' -> 标签: restaurant_name\n",
      "\n",
      "文本: Can I book a room in B1 Activity Building?\n",
      "  实体: 'B1 Activity Building' -> 标签: building_name\n"
     ]
    }
   ],
   "source": [
    "# 测试训练好的模型\n",
    "test_texts = [\n",
    "    \"Where is KK便利店 located?\",\n",
    "    \"I want to go to A3图书馆 tomorrow morning\",\n",
    "    \"What time does 星巴克STARBUCKS open?\",\n",
    "    \"Can I book a room in B1 Activity Building?\"\n",
    "]\n",
    "\n",
    "print(\"测试实体识别结果:\")\n",
    "for text in test_texts:\n",
    "    doc = entity_recognizer(text)\n",
    "    print(f\"\\n文本: {text}\")\n",
    "    if doc.ents:\n",
    "        for ent in doc.ents:\n",
    "            print(f\"  实体: '{ent.text}' -> 标签: {ent.label_}\")\n",
    "    else:\n",
    "        print(\"  未识别到实体\")\n"
   ]
  },
  {
   "cell_type": "markdown",
   "metadata": {},
   "source": [
    "#### Test the model"
   ]
  },
  {
   "cell_type": "code",
   "execution_count": 74,
   "metadata": {},
   "outputs": [],
   "source": [
    "from sklearn.metrics import classification_report"
   ]
  },
  {
   "cell_type": "code",
   "execution_count": null,
   "metadata": {},
   "outputs": [],
   "source": []
  }
 ],
 "metadata": {
  "kernelspec": {
   "display_name": "Python 3",
   "language": "python",
   "name": "python3"
  },
  "language_info": {
   "codemirror_mode": {
    "name": "ipython",
    "version": 3
   },
   "file_extension": ".py",
   "mimetype": "text/x-python",
   "name": "python",
   "nbconvert_exporter": "python",
   "pygments_lexer": "ipython3",
   "version": "3.12.6"
  }
 },
 "nbformat": 4,
 "nbformat_minor": 2
}
