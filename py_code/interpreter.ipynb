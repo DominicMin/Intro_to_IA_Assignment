{
 "cells": [
  {
   "cell_type": "markdown",
   "metadata": {},
   "source": [
    "### Combine trained models into one class"
   ]
  },
  {
   "cell_type": "code",
   "execution_count": 35,
   "metadata": {},
   "outputs": [],
   "source": [
    "import json\n",
    "import re\n",
    "import joblib\n",
    "import pandas as pd\n",
    "import spacy\n",
    "from vaderSentiment.vaderSentiment import SentimentIntensityAnalyzer\n",
    "from tqdm.auto import tqdm\n",
    "from sklearn.metrics import classification_report"
   ]
  },
  {
   "cell_type": "code",
   "execution_count": 36,
   "metadata": {},
   "outputs": [],
   "source": [
    "class Interpreter:\n",
    "    def __init__(self,\n",
    "                 intent_classifier=joblib.load(\"data/trained_model/intent_classifier.joblib\"),\n",
    "                 entity_recognizer=spacy.load(\"data/trained_model/entity_recognizer\"),\n",
    "                 IE_lib=json.load(open(\"data/IE/IE_lib.json\",encoding=\"utf-8\"))):\n",
    "        self.intent_classifier=intent_classifier\n",
    "        self.entity_recognizer=entity_recognizer\n",
    "        self.sentiment_analyzer=SentimentIntensityAnalyzer()\n",
    "        self.IE_lib=IE_lib\n",
    "\n",
    "    def sentence_split(self,query):\n",
    "        sentences = re.split(r'[.!?]+', query)\n",
    "        return [sentence.strip() for sentence in sentences if sentence.strip()]\n",
    "\n",
    "    def interpret(self,user_input):\n",
    "        sentence_set=self.sentence_split(user_input)\n",
    "        def process_query(query):\n",
    "            intent_pred=self.intent_classifier.predict([query])\n",
    "            intent_name=intent_pred[0]\n",
    "            entities_pred={\n",
    "                ent.text:ent.label_ for ent in self.entity_recognizer(query).ents\n",
    "            }\n",
    "            sentiment_score=self.sentiment_analyzer.polarity_scores(query)\n",
    "            result={\n",
    "                \"query\":query,\n",
    "                \"intent\":intent_name,\n",
    "                \"entities\":entities_pred,\n",
    "                \"sentiment\":sentiment_score\n",
    "            }\n",
    "            return result\n",
    "        return [process_query(sentence) for sentence in sentence_set]"
   ]
  },
  {
   "cell_type": "code",
   "execution_count": 37,
   "metadata": {},
   "outputs": [],
   "source": [
    "interpreter=Interpreter()"
   ]
  },
  {
   "cell_type": "code",
   "execution_count": 40,
   "metadata": {},
   "outputs": [
    {
     "name": "stdout",
     "output_type": "stream",
     "text": [
      "[{'query': 'Where is KK convenience store located', 'intent': 'ask_restaurant_location', 'entities': {'KK': 'restaurant_name'}, 'sentiment': {'neg': 0.0, 'neu': 0.607, 'pos': 0.393, 'compound': 0.4995}}]\n",
      "----------------------------------------\n",
      "[{'query': 'Can I go to A3 library tomorrow morning', 'intent': 'ask_restaurant_recommendation', 'entities': {'A3 library': 'restaurant_name'}, 'sentiment': {'neg': 0.0, 'neu': 1.0, 'pos': 0.0, 'compound': 0.0}}]\n",
      "----------------------------------------\n",
      "[{'query': 'What time does Starbucks open', 'intent': 'ask_restaurant_time', 'entities': {'Starbucks': 'restaurant_name'}, 'sentiment': {'neg': 0.0, 'neu': 1.0, 'pos': 0.0, 'compound': 0.0}}]\n",
      "----------------------------------------\n",
      "[{'query': 'Can I book a room in B1 Activity Building', 'intent': 'ask_building_include', 'entities': {'B1 Activity Building': 'building_name'}, 'sentiment': {'neg': 0.0, 'neu': 1.0, 'pos': 0.0, 'compound': 0.0}}]\n",
      "----------------------------------------\n"
     ]
    }
   ],
   "source": [
    "test_texts = [\n",
    "    \"Where is KK convenience store located?\",\n",
    "    \"Can I go to A3 library tomorrow morning?\",\n",
    "    \"What time does Starbucks open?\",\n",
    "    \"Can I book a room in B1 Activity Building?\"\n",
    "]\n",
    "\n",
    "for text in test_texts:\n",
    "    result=interpreter.interpret(text)\n",
    "    print(result)\n",
    "    # print(f\"Intent: {result[0]['intent']}\")\n",
    "    # print(f\"Entities: {result[0]['entities']}\")\n",
    "    # print(f\"Sentiment: {result[0]['sentiment']}\")\n",
    "    print(\"-\"*40)"
   ]
  },
  {
   "cell_type": "code",
   "execution_count": null,
   "metadata": {},
   "outputs": [],
   "source": []
  }
 ],
 "metadata": {
  "kernelspec": {
   "display_name": "Python 3",
   "language": "python",
   "name": "python3"
  },
  "language_info": {
   "codemirror_mode": {
    "name": "ipython",
    "version": 3
   },
   "file_extension": ".py",
   "mimetype": "text/x-python",
   "name": "python",
   "nbconvert_exporter": "python",
   "pygments_lexer": "ipython3",
   "version": "3.12.6"
  }
 },
 "nbformat": 4,
 "nbformat_minor": 2
}
