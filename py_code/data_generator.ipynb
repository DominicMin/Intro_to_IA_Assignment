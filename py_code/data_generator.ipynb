{
 "cells": [
  {
   "cell_type": "markdown",
   "id": "21748f29",
   "metadata": {},
   "source": [
    "### Import modules and write LLM instructions"
   ]
  },
  {
   "cell_type": "code",
   "execution_count": 11,
   "metadata": {},
   "outputs": [],
   "source": [
    "import os\n",
    "import re\n",
    "import json\n",
    "from tqdm.auto import tqdm\n",
    "import pickle\n",
    "import json\n",
    "\n",
    "from openai import OpenAI\n",
    "api_key=json.load(open(\"api.json\"))[0]\n",
    "client=OpenAI(api_key=api_key, base_url=\"https://api.deepseek.com\")\n",
    "\n",
    "import ollama\n",
    "model=\"llama3.1:8b\""
   ]
  },
  {
   "cell_type": "code",
   "execution_count": 12,
   "id": "d13d3d34",
   "metadata": {},
   "outputs": [],
   "source": [
    "intent_instruction='''You are an expert NLU data generation assistant for a campus chatbot.\n",
    "Your task is to generate {num_query} varied data items for given entity and intent.\n",
    "**Instructions:**\n",
    "1. You should generate {num_query} possible queries corresponding to the given entity and intent.\n",
    "2. The output should be a vaild json snippet like {example}\n",
    "3. The {num_query} queries should be included in a list.\n",
    "in json file that is \"query\":[{num_query} generated] \n",
    "4. Each possible query must contain one or some of the given entities.\n",
    "5. Each possible query must contain one or some of the given intents.\n",
    "6. You CANNOT add new eneities in the generated query! \n",
    "For example:\n",
    "\"intent\": \"ask_business_location\", \"generated_query\":\"What are the business hours of KIMS SALON?\"\n",
    "then a NEW intent \"ask_business_time\" is added.\n",
    "7. Output json snippet ONLY. \n",
    "\n",
    "**Exapmle:**\n",
    "{\n",
    "  \"query\": [\"where is Nasi Kandar restaurant?\", \"how can i go to Nasi Kandar restaurant?\"],\n",
    "  \"intent\": \"ask_restaurant_location\",\n",
    "  \"entities\": [\n",
    "    {\"Nasi Kandar restaurant\":\"restaurant_name\"} \n",
    "  ]\n",
    "}\n",
    "'''"
   ]
  },
  {
   "cell_type": "markdown",
   "id": "99751827",
   "metadata": {},
   "source": [
    "### Construct a class for intent generation"
   ]
  },
  {
   "cell_type": "code",
   "execution_count": 19,
   "id": "683d75ec",
   "metadata": {},
   "outputs": [],
   "source": [
    "class intent_data_generator:\n",
    "    def __init__(self,intent_lib_path=r\"data\\extracted_json\\database.json\"):\n",
    "        self.data=json.load(open(intent_lib_path,\"r\",encoding=\"utf-8\"))\n",
    "        self.categories=list(self.data.keys())\n",
    "        self.intent_responses={\n",
    "          category:None for category in self.categories\n",
    "        }\n",
    "    \n",
    "    def create_intent_prompt(self,category,num_query):\n",
    "        message_set=[\n",
    "          {\"role\":\"system\",\"content\":intent_instruction}\n",
    "          ]\n",
    "        for intent in self.data[category][\"possible_intent\"]:\n",
    "          for entity_item in list(self.data[category].values())[1:]:\n",
    "            for entity_name in entity_item[\"possible_name\"]:\n",
    "                prompt=f\"\"\"**Your Task:**\n",
    "                Generate {num_query} new and unique query examples for the intent '{intent}' containing entity {entity_name}:{category}.\n",
    "                \"\"\"\n",
    "                message_set.append({\n",
    "                \"role\":\"user\",\n",
    "                \"content\":prompt\n",
    "                })\n",
    "        return message_set\n",
    "    \n",
    "    def get_intent_response(self,category,num_query):\n",
    "      message_set=self.create_intent_prompt(category,num_query)\n",
    "      response_set=[]\n",
    "      for msg in tqdm(message_set[1:],desc=f\"Generating data for {category}\"):\n",
    "        try:\n",
    "            # response=client.chat.completions.create(\n",
    "            #     model=\"deepseek-chat\",\n",
    "            #     messages=[\n",
    "            #       message_set[0],msg\n",
    "            #     ],\n",
    "            #     stream=False\n",
    "            # ).choices[0].message.content\n",
    "            response=ollama.chat(model=model, messages=[\n",
    "                  message_set[0],msg\n",
    "                ])[\"message\"][\"content\"]\n",
    "\n",
    "            response=re.sub(\n",
    "              pattern=r\"```json\\n|\\n```\",\n",
    "              repl='',\n",
    "              string=response\n",
    "            )\n",
    "            try:\n",
    "                json.loads(response)\n",
    "                response_set.append(response)\n",
    "            except json.JSONDecodeError:\n",
    "                print(f\"Warning: Invalid JSON response for {category}, skipping this item\")\n",
    "                continue\n",
    "                \n",
    "        except Exception as e:\n",
    "            print(f\"Error generating response for {category}: {e}\")\n",
    "            continue\n",
    "            \n",
    "      self.intent_responses[category]=response_set\n",
    "\n",
    "    def save_intent_data(self,file_path):\n",
    "        # 使用写入模式而不是追加模式\n",
    "        with open(file_path,\"w\",encoding=\"utf-8\") as f:\n",
    "            f.write(\"{\\n\")\n",
    "            valid_categories=[]\n",
    "            \n",
    "            # 先过滤出有有效数据的类别\n",
    "            for category in self.categories:\n",
    "                if (self.intent_responses[category] is not None and \n",
    "                    len(self.intent_responses[category]) > 0):\n",
    "                    valid_categories.append(category)\n",
    "            \n",
    "            for i, category in enumerate(valid_categories):\n",
    "                f.write(f'\"{category}\":[\\n')\n",
    "                \n",
    "                # 过滤出有效的JSON数据项\n",
    "                valid_items=[]\n",
    "                for data_item in self.intent_responses[category]:\n",
    "                    try:\n",
    "                        # 验证JSON格式\n",
    "                        json.loads(data_item)\n",
    "                        valid_items.append(data_item)\n",
    "                    except json.JSONDecodeError:\n",
    "                        print(f\"Warning: Skipping invalid JSON item in {category}\")\n",
    "                        continue\n",
    "                \n",
    "                # 写入有效的数据项\n",
    "                for j, data_item in enumerate(valid_items):\n",
    "                    f.write(data_item)\n",
    "                    if j == len(valid_items) - 1:\n",
    "                        f.write(\"\\n\")\n",
    "                    else:\n",
    "                        f.write(\",\\n\")\n",
    "                \n",
    "                # 添加类别间的逗号\n",
    "                if i == len(valid_categories) - 1:\n",
    "                    f.write(\"]\\n\")\n",
    "                else:\n",
    "                    f.write(\"],\\n\")\n",
    "                    \n",
    "            f.write(\"}\")\n",
    "            \n",
    "        print(f\"Training data saved to {file_path}\")\n",
    "        print(f\"成功保存的类别: {valid_categories}\")\n",
    "        for category in self.categories:\n",
    "            if category not in valid_categories:\n",
    "                print(f\"警告: {category} 类别没有有效数据\")\n"
   ]
  },
  {
   "cell_type": "code",
   "execution_count": 14,
   "id": "9eab320a",
   "metadata": {},
   "outputs": [],
   "source": [
    "intent_generator=intent_data_generator()"
   ]
  },
  {
   "cell_type": "markdown",
   "id": "717deebf",
   "metadata": {},
   "source": [
    "### Generate data for intent recognition"
   ]
  },
  {
   "cell_type": "code",
   "execution_count": 15,
   "id": "fff5cb55",
   "metadata": {},
   "outputs": [
    {
     "data": {
      "application/vnd.jupyter.widget-view+json": {
       "model_id": "77dd72797ee045b490bc65db6094b022",
       "version_major": 2,
       "version_minor": 0
      },
      "text/plain": [
       "Generating data for restaurant:   0%|          | 0/426 [00:00<?, ?it/s]"
      ]
     },
     "metadata": {},
     "output_type": "display_data"
    }
   ],
   "source": [
    "intent_generator.get_intent_response(\"restaurant\",3)\n",
    "with open(\"data/intent_generator_restaurant.pkl\", \"wb\") as f:\n",
    "    pickle.dump(intent_generator, f)"
   ]
  },
  {
   "cell_type": "code",
   "execution_count": 20,
   "id": "6dfafdfa",
   "metadata": {},
   "outputs": [
    {
     "name": "stdout",
     "output_type": "stream",
     "text": [
      "Training data saved to data/intent_train_data_restaurant.json\n",
      "成功保存的类别: ['restaurant']\n",
      "警告: business 类别没有有效数据\n",
      "警告: facility 类别没有有效数据\n",
      "警告: building 类别没有有效数据\n",
      "警告: handbook 类别没有有效数据\n"
     ]
    }
   ],
   "source": [
    "with open(\"data/intent_generator_restaurant.pkl\",\"rb\") as f:\n",
    "    intent_generator=pickle.load(f)\n",
    "intent_generator.save_intent_data(\"data/intent_train_data_restaurant.json\")"
   ]
  },
  {
   "cell_type": "markdown",
   "id": "1606ca93",
   "metadata": {},
   "source": [
    "### Construct a class for entity recognition"
   ]
  },
  {
   "cell_type": "code",
   "execution_count": 39,
   "id": "c42218f5",
   "metadata": {},
   "outputs": [],
   "source": [
    "# 实体识别数据生成指令\n",
    "entity_instruction='''You are an expert NER (Named Entity Recognition) data generation assistant for a campus chatbot.\n",
    "Your task is to generate training data for entity recognition in Chinese queries.\n",
    "\n",
    "**Your Task:**\n",
    "Generate varied Chinese query examples that contain entities from the given categories and entity types.\n",
    "\n",
    "**Output Format:**\n",
    "Each generated item should be a JSON object with this exact structure:\n",
    "{\n",
    "    \"query\": \"I want to go to A3 library tomorrow morning\",\n",
    "    \"entities\": [\n",
    "        {\"entity_text\": \"tomorrow morning\", \"entity_label\": \"time\"},\n",
    "        {\"entity_text\": \"A3 library\", \"entity_label\": \"facility_name\"}\n",
    "    ]\n",
    "}\n",
    "\n",
    "**Entity Label Types:**\n",
    "- business_name: business name (e.g. KK便利店, KIMS SALON)\n",
    "- restaurant_name: restaurant name (e.g. 夏1城, 大树下)\n",
    "- facility_name: facility name (e.g. library, gym, swimming pool)\n",
    "- building_name: building name (e.g. B1 Activity Building, A Zone Teaching Building)\n",
    "- handbook_topic: handbook topic (e.g. birthday cake recommendation, campus clinic)\n",
    "- time: time expression (e.g. tomorrow morning, next Wednesday, tonight)\n",
    "- location: location expression (e.g. on campus, below the dormitory)\n",
    "\n",
    "**Instructions:**\n",
    "1. Generate natural Chinese queries that students would ask\n",
    "2. Include 1-3 entities per query\n",
    "3. Entities must match the provided entity names exactly\n",
    "4. Time and location entities can be flexible expressions\n",
    "5. Output valid JSON only, no additional text\n",
    "6. Each query should be realistic and contextually appropriate\n",
    "\n",
    "**Example:**\n",
    "{\n",
    "    \"query\": [\"What is the opening time of KIMS SALON tomorrow?\", \"What is the opening time of KIMS SALON tomorrow?\"],\n",
    "    \"entities\": [\n",
    "        {\"entity_text\": \"KIMS SALON\", \"entity_label\": \"business_name\"},\n",
    "        {\"entity_text\": \"tomorrow\", \"entity_label\": \"time\"}\n",
    "    ]\n",
    "}\n",
    "'''"
   ]
  },
  {
   "cell_type": "code",
   "execution_count": 40,
   "id": "ba0ec7a0",
   "metadata": {},
   "outputs": [],
   "source": [
    "class entity_data_generator:\n",
    "    def __init__(self, intent_lib_path=r\"data\\extracted_json\\database.json\"):\n",
    "        self.data=json.load(open(intent_lib_path, \"r\", encoding=\"utf-8\"))\n",
    "        self.categories=list(self.data.keys())\n",
    "        \n",
    "        # Entity label mapping\n",
    "        # self.entity_label_mapping={\n",
    "        #     \"business\": \"business_name\",\n",
    "        #     \"restaurant\": \"restaurant_name\", \n",
    "        #     \"facility\": \"facility_name\",\n",
    "        #     \"building\": \"building_name\",\n",
    "        #     \"handbook\": \"handbook_topic\",\n",
    "        #     \"time\": \"time\",\n",
    "        #     \"location\": \"location\"\n",
    "        # }\n",
    "        \n",
    "        self.entity_responses={\n",
    "            category: None for category in self.categories\n",
    "        }\n",
    "    \n",
    "    def create_entity_prompt(self, category, num_query):\n",
    "        # entity_label=self.entity_label_mapping[category]\n",
    "        entity_label=category\n",
    "        entity_names=[]\n",
    "        for catagory in  self.categories:\n",
    "            for entity_item in self.data[catagory].values()[1:]:\n",
    "                entity_names.extend(entity_item[\"possible_name\"])\n",
    "        \n",
    "        message_set=[\n",
    "            {\"role\": \"system\", \"content\": entity_instruction}\n",
    "        ]\n",
    "        \n",
    "        # 为每个实体名称创建生成任务\n",
    "        for entity_name in entity_names:\n",
    "            prompt=f\"\"\"**Your Task:**\n",
    "Generate {num_query} English query examples containing the entity \"{entity_name}\".\n",
    "\n",
    "**Requirements:**\n",
    "1. Each query must contain \"{entity_name}\" as an entity\n",
    "2. Optionally include time/location entities for more realistic queries\n",
    "3. Cannot add new entities (exclude time and location) in the generated query!\n",
    "4. Output format:\n",
    "{{\n",
    "  \"query\": [\"query1\", \"query2\", \"query3\"],\n",
    "  \"entities\": [\n",
    "    {{\"entity_text\": \"entity_name\", \"entity_label\": \"entity_label\"}}\n",
    "  ]\n",
    "}}\n",
    "5. Output json snippet ONLY. Do not add any other text.\n",
    "\n",
    "**Entity to include:**\n",
    "- Entity: \"{entity_name}\"\n",
    "- Label: \"{entity_label}\"\n",
    "\"\"\"\n",
    "            message_set.append({\n",
    "                \"role\": \"user\",\n",
    "                \"content\": prompt\n",
    "            })\n",
    "        \n",
    "        return message_set\n",
    "    \n",
    "    def get_entity_response(self, category, num_query):\n",
    "        message_set=self.create_entity_prompt(category, num_query)\n",
    "        response_set=[]\n",
    "        \n",
    "        for msg in tqdm(message_set[1:], desc=f\"Generating entity data for {category}\"):\n",
    "\n",
    "            response=ollama.chat(model=model, messages=[\n",
    "                message_set[0], msg\n",
    "            ])[\"message\"][\"content\"]\n",
    "            \n",
    "            response=re.sub(\n",
    "                pattern=r\"```json\\n|\\n```|```\",\n",
    "                repl='',\n",
    "                string=response\n",
    "            )\n",
    "            \n",
    "            try:\n",
    "                json.loads(response)\n",
    "                response_set.append(response)\n",
    "            except json.JSONDecodeError:\n",
    "                print(f\"Warning: Invalid JSON response for {category}, skipping this item\")\n",
    "                continue\n",
    "            except Exception as e:\n",
    "                print(f\"Error generating response for {category}: {e}\")\n",
    "                continue\n",
    "        \n",
    "        self.entity_responses[category]=response_set\n",
    "    \n",
    "    def save_entity_data(self,file_path=\"data/train_data/entity_train_data.json\"):\n",
    "        # 使用写入模式而不是追加模式\n",
    "        with open(file_path,\"w\",encoding=\"utf-8\") as f:\n",
    "            f.write(\"{\\n\")\n",
    "            valid_categories=[]\n",
    "            \n",
    "            # 先过滤出有有效数据的类别\n",
    "            for category in self.categories:\n",
    "                if (self.entity_responses[category] is not None and \n",
    "                    len(self.entity_responses[category]) > 0):\n",
    "                    valid_categories.append(category)\n",
    "            \n",
    "            for i, category in enumerate(valid_categories):\n",
    "                f.write(f'\"{category}\":[\\n')\n",
    "                \n",
    "                # 过滤出有效的JSON数据项\n",
    "                valid_items=[]\n",
    "                for data_item in self.entity_responses[category]:\n",
    "                    try:\n",
    "                        # 验证JSON格式\n",
    "                        json.loads(data_item)\n",
    "                        valid_items.append(data_item)\n",
    "                    except json.JSONDecodeError:\n",
    "                        print(f\"Warning: Skipping invalid JSON item in {category}\")\n",
    "                        continue\n",
    "                \n",
    "                # 写入有效的数据项\n",
    "                for j, data_item in enumerate(valid_items):\n",
    "                    f.write(data_item)\n",
    "                    if j == len(valid_items) - 1:\n",
    "                        f.write(\"\\n\")\n",
    "                    else:\n",
    "                        f.write(\",\\n\")\n",
    "                \n",
    "                # 添加类别间的逗号\n",
    "                if i == len(valid_categories) - 1:\n",
    "                    f.write(\"]\\n\")\n",
    "                else:\n",
    "                    f.write(\"],\\n\")\n",
    "                    \n",
    "            f.write(\"}\")\n",
    "            \n",
    "        print(f\"Data saved to {file_path}\")\n",
    "        print(f\"Successfully saved categories: {valid_categories}\")\n",
    "        for category in self.categories:\n",
    "            if category not in valid_categories:\n",
    "                print(f\"Warning: no valid data for {category}\")\n"
   ]
  },
  {
   "cell_type": "code",
   "execution_count": 41,
   "id": "6a216e96",
   "metadata": {},
   "outputs": [],
   "source": [
    "# Create entity data generator\n",
    "entity_generator=entity_data_generator()"
   ]
  },
  {
   "cell_type": "markdown",
   "id": "ac50ee12",
   "metadata": {},
   "source": [
    "### Generate data for entity recognition"
   ]
  },
  {
   "cell_type": "code",
   "execution_count": 42,
   "id": "5d327c53",
   "metadata": {},
   "outputs": [
    {
     "data": {
      "application/vnd.jupyter.widget-view+json": {
       "model_id": "f63ecb3f7ddc4ce698af5e865c16ac93",
       "version_major": 2,
       "version_minor": 0
      },
      "text/plain": [
       "Generating data:   0%|          | 0/5 [00:00<?, ?it/s]"
      ]
     },
     "metadata": {},
     "output_type": "display_data"
    },
    {
     "data": {
      "application/vnd.jupyter.widget-view+json": {
       "model_id": "80c6fbc3476e43fb919a39416ca6d9e1",
       "version_major": 2,
       "version_minor": 0
      },
      "text/plain": [
       "Generating entity data for business:   0%|          | 0/13 [00:00<?, ?it/s]"
      ]
     },
     "metadata": {},
     "output_type": "display_data"
    },
    {
     "name": "stdout",
     "output_type": "stream",
     "text": [
      "Warning: Invalid JSON response for business, skipping this item\n",
      "Warning: Invalid JSON response for business, skipping this item\n",
      "Warning: Invalid JSON response for business, skipping this item\n"
     ]
    },
    {
     "data": {
      "application/vnd.jupyter.widget-view+json": {
       "model_id": "305d1ee40824402ea8f20e15fe6b8a48",
       "version_major": 2,
       "version_minor": 0
      },
      "text/plain": [
       "Generating entity data for restaurant:   0%|          | 0/68 [00:00<?, ?it/s]"
      ]
     },
     "metadata": {},
     "output_type": "display_data"
    },
    {
     "name": "stdout",
     "output_type": "stream",
     "text": [
      "Warning: Invalid JSON response for restaurant, skipping this item\n",
      "Warning: Invalid JSON response for restaurant, skipping this item\n",
      "Warning: Invalid JSON response for restaurant, skipping this item\n",
      "Warning: Invalid JSON response for restaurant, skipping this item\n",
      "Warning: Invalid JSON response for restaurant, skipping this item\n",
      "Warning: Invalid JSON response for restaurant, skipping this item\n"
     ]
    },
    {
     "data": {
      "application/vnd.jupyter.widget-view+json": {
       "model_id": "5a555058e06e482e85ceafde4d0446bd",
       "version_major": 2,
       "version_minor": 0
      },
      "text/plain": [
       "Generating entity data for facility:   0%|          | 0/20 [00:00<?, ?it/s]"
      ]
     },
     "metadata": {},
     "output_type": "display_data"
    },
    {
     "name": "stdout",
     "output_type": "stream",
     "text": [
      "Warning: Invalid JSON response for facility, skipping this item\n",
      "Warning: Invalid JSON response for facility, skipping this item\n",
      "Warning: Invalid JSON response for facility, skipping this item\n"
     ]
    },
    {
     "data": {
      "application/vnd.jupyter.widget-view+json": {
       "model_id": "209d32104fa74f8e8413384f2b990960",
       "version_major": 2,
       "version_minor": 0
      },
      "text/plain": [
       "Generating entity data for building:   0%|          | 0/5 [00:00<?, ?it/s]"
      ]
     },
     "metadata": {},
     "output_type": "display_data"
    },
    {
     "name": "stdout",
     "output_type": "stream",
     "text": [
      "Warning: Invalid JSON response for building, skipping this item\n",
      "Warning: Invalid JSON response for building, skipping this item\n",
      "Warning: Invalid JSON response for building, skipping this item\n"
     ]
    },
    {
     "data": {
      "application/vnd.jupyter.widget-view+json": {
       "model_id": "509fd96e97f04cd3b924b11af454ca4a",
       "version_major": 2,
       "version_minor": 0
      },
      "text/plain": [
       "Generating entity data for handbook:   0%|          | 0/35 [00:00<?, ?it/s]"
      ]
     },
     "metadata": {},
     "output_type": "display_data"
    },
    {
     "name": "stdout",
     "output_type": "stream",
     "text": [
      "Warning: Invalid JSON response for handbook, skipping this item\n",
      "Warning: Invalid JSON response for handbook, skipping this item\n",
      "Warning: Invalid JSON response for handbook, skipping this item\n",
      "Warning: Invalid JSON response for handbook, skipping this item\n",
      "Warning: Invalid JSON response for handbook, skipping this item\n",
      "Warning: Invalid JSON response for handbook, skipping this item\n",
      "Warning: Invalid JSON response for handbook, skipping this item\n",
      "Warning: Invalid JSON response for handbook, skipping this item\n",
      "Warning: Invalid JSON response for handbook, skipping this item\n",
      "Warning: Invalid JSON response for handbook, skipping this item\n"
     ]
    }
   ],
   "source": [
    "for c in tqdm(entity_generator.categories,desc=\"Generating data\"):\n",
    "    entity_generator.get_entity_response(c,4)\n",
    "with open(\"data/entity_generator.pkl\", \"wb\") as f:\n",
    "    pickle.dump(entity_generator, f)"
   ]
  },
  {
   "cell_type": "code",
   "execution_count": 43,
   "id": "71cae452",
   "metadata": {},
   "outputs": [
    {
     "name": "stdout",
     "output_type": "stream",
     "text": [
      "Data saved to data/train_data/entity_train_data.json\n",
      "Successfully saved categories: ['business', 'restaurant', 'facility', 'building', 'handbook']\n"
     ]
    }
   ],
   "source": [
    "entity_generator.save_entity_data()"
   ]
  },
  {
   "cell_type": "code",
   "execution_count": 44,
   "id": "c6406b22",
   "metadata": {},
   "outputs": [
    {
     "data": {
      "application/vnd.jupyter.widget-view+json": {
       "model_id": "634d991a3ebe42a5ae6f14a4201f9651",
       "version_major": 2,
       "version_minor": 0
      },
      "text/plain": [
       "Generating entity data for restaurant:   0%|          | 0/68 [00:00<?, ?it/s]"
      ]
     },
     "metadata": {},
     "output_type": "display_data"
    },
    {
     "name": "stdout",
     "output_type": "stream",
     "text": [
      "Warning: Invalid JSON response for restaurant, skipping this item\n",
      "Warning: Invalid JSON response for restaurant, skipping this item\n",
      "生成的示例数据：\n",
      "\n",
      "示例 1:\n",
      "{\n",
      "  \"query\": [\n",
      "    \"What is the opening time of 夏1城 tomorrow?\",\n",
      "    \"Is 夏1城 open on Sundays?\",\n",
      "    \"Can I reserve a table at 夏1城 tonight?\"\n",
      "  ],\n",
      "  \"entities\": [\n",
      "    {\n",
      "      \"entity_text\": \"夏1城\",\n",
      "      \"entity_label\": \"restaurant_name\"\n",
      "    },\n",
      "    {\n",
      "      \"entity_text\": \"tomorrow\",\n",
      "      \"entity_label\": \"time\"\n",
      "    }\n",
      "  ]\n",
      "}\n",
      "\n",
      "示例 2:\n",
      "{\n",
      "  \"query\": [\n",
      "    \"I want to book a table at Tuk Tuk Thai&Taro tonight.\",\n",
      "    \"What is the phone number of Tuk Tuk Thai&Taro?\"\n",
      "  ],\n",
      "  \"entities\": [\n",
      "    {\n",
      "      \"entity_text\": \"Tuk Tuk Thai&Taro\",\n",
      "      \"entity_label\": \"restaurant_name\"\n",
      "    }\n",
      "  ]\n",
      "}\n",
      "\n",
      "示例 3:\n",
      "{\n",
      "  \"query\": [\n",
      "    \"What is the menu of 大树下?\",\n",
      "    \"I want to order food from 大树下 tonight\",\n",
      "    \"Can I make a reservation at 大树下 tomorrow night?\"\n",
      "  ],\n",
      "  \"entities\": [\n",
      "    {\n",
      "      \"entity_text\": \"大树下\",\n",
      "      \"entity_label\": \"restaurant_name\"\n",
      "    }\n",
      "  ]\n",
      "}\n"
     ]
    }
   ],
   "source": [
    "# 测试为餐厅类别生成数据\n",
    "test_generator=entity_data_generator()\n",
    "test_generator.get_entity_response(\"restaurant\", 2)\n",
    "\n",
    "# 查看生成的数据\n",
    "if test_generator.entity_responses[\"restaurant\"]:\n",
    "    print(\"生成的示例数据：\")\n",
    "    for i, item in enumerate(test_generator.entity_responses[\"restaurant\"][:3]):\n",
    "        print(f\"\\n示例 {i+1}:\")\n",
    "        try:\n",
    "            parsed=json.loads(item)\n",
    "            print(json.dumps(parsed, ensure_ascii=False, indent=2))\n",
    "        except json.JSONDecodeError:\n",
    "            print(f\"JSON解析错误: {item}\")\n",
    "else:\n",
    "    print(\"没有生成数据\")\n"
   ]
  },
  {
   "cell_type": "code",
   "execution_count": 45,
   "id": "56b91129",
   "metadata": {},
   "outputs": [],
   "source": [
    "def validate_entity_data(file_path):\n",
    "    \"\"\"验证生成的实体数据质量\"\"\"\n",
    "    with open(file_path, \"r\", encoding=\"utf-8\") as f:\n",
    "        data=json.load(f)\n",
    "    \n",
    "    print(f\"总共加载了 {len(data)} 条数据\")\n",
    "    \n",
    "    # 统计各类实体\n",
    "    entity_stats={}\n",
    "    query_lengths=[]\n",
    "    entity_counts=[]\n",
    "    \n",
    "    valid_count=0\n",
    "    invalid_items=[]\n",
    "    \n",
    "    for i, item in enumerate(data):\n",
    "        try:\n",
    "            # 检查必需字段\n",
    "            if 'query' not in item or 'entities' not in item:\n",
    "                invalid_items.append(f\"第{i+1}条: 缺少必需字段\")\n",
    "                continue\n",
    "                \n",
    "            query=item['query']\n",
    "            entities=item['entities']\n",
    "            \n",
    "            # 检查query是否为字符串\n",
    "            if not isinstance(query, str) or len(query.strip()) == 0:\n",
    "                invalid_items.append(f\"第{i+1}条: query无效\")\n",
    "                continue\n",
    "                \n",
    "            # 检查entities是否为列表\n",
    "            if not isinstance(entities, list) or len(entities) == 0:\n",
    "                invalid_items.append(f\"第{i+1}条: entities无效\")\n",
    "                continue\n",
    "                \n",
    "            # 检查每个entity的格式\n",
    "            valid_entities=True\n",
    "            for entity in entities:\n",
    "                if not isinstance(entity, dict):\n",
    "                    invalid_items.append(f\"第{i+1}条: entity不是字典格式\")\n",
    "                    valid_entities=False\n",
    "                    break\n",
    "                    \n",
    "                if 'entity_text' not in entity or 'entity_label' not in entity:\n",
    "                    invalid_items.append(f\"第{i+1}条: entity缺少必需字段\")\n",
    "                    valid_entities=False\n",
    "                    break\n",
    "                    \n",
    "                entity_text=entity['entity_text']\n",
    "                entity_label=entity['entity_label']\n",
    "                \n",
    "                # 检查实体文本是否在查询中\n",
    "                if entity_text not in query:\n",
    "                    invalid_items.append(f\"第{i+1}条: 实体文本'{entity_text}'不在查询中\")\n",
    "                    valid_entities=False\n",
    "                    break\n",
    "                    \n",
    "                # 统计实体类型\n",
    "                entity_stats[entity_label]=entity_stats.get(entity_label, 0) + 1\n",
    "            \n",
    "            if valid_entities:\n",
    "                valid_count += 1\n",
    "                query_lengths.append(len(query))\n",
    "                entity_counts.append(len(entities))\n",
    "                \n",
    "        except Exception as e:\n",
    "            invalid_items.append(f\"第{i+1}条: 处理错误 - {str(e)}\")\n",
    "    \n",
    "    print(f\"\\n数据质量报告:\")\n",
    "    print(f\"有效数据: {valid_count} 条\")\n",
    "    print(f\"无效数据: {len(invalid_items)} 条\")\n",
    "    \n",
    "    if invalid_items:\n",
    "        print(f\"\\n前5个无效数据问题:\")\n",
    "        for issue in invalid_items[:5]:\n",
    "            print(f\"  - {issue}\")\n",
    "    \n",
    "    if query_lengths:\n",
    "        print(f\"\\n查询长度统计:\")\n",
    "        print(f\"  平均长度: {sum(query_lengths)/len(query_lengths):.1f} 字符\")\n",
    "        print(f\"  最短: {min(query_lengths)} 字符\")\n",
    "        print(f\"  最长: {max(query_lengths)} 字符\")\n",
    "        \n",
    "        print(f\"\\n每条数据实体数量:\")\n",
    "        print(f\"  平均: {sum(entity_counts)/len(entity_counts):.1f} 个\")\n",
    "        print(f\"  最少: {min(entity_counts)} 个\")\n",
    "        print(f\"  最多: {max(entity_counts)} 个\")\n",
    "    \n",
    "    print(f\"\\n实体类型统计:\")\n",
    "    for label, count in sorted(entity_stats.items()):\n",
    "        print(f\"  {label}: {count} 个实体\")\n",
    "    \n",
    "    return valid_count, len(invalid_items), entity_stats\n",
    "\n",
    "# 使用示例（生成数据后运行）\n",
    "# validate_entity_data(\"data/train_data/entity_train_data.json\")\n"
   ]
  },
  {
   "cell_type": "markdown",
   "id": "350050a6",
   "metadata": {
    "vscode": {
     "languageId": "raw"
    }
   },
   "source": [
    "## 实体识别数据生成器使用说明\n",
    "\n",
    "### 功能特点\n",
    "1. **自动化生成**: 基于intent_lib.json中定义的实体自动生成实体识别训练数据\n",
    "2. **标准格式**: 生成符合NER训练要求的JSON格式数据\n",
    "3. **多实体支持**: 每个查询可包含多个实体（时间、地点等）\n",
    "4. **质量控制**: 内置数据验证和质量检查功能\n",
    "\n",
    "### 生成的数据格式\n",
    "```json\n",
    "{\n",
    "    \"query\": \"明天上午我想去A3图书馆还书\",\n",
    "    \"entities\": [\n",
    "        {\"entity_text\": \"明天上午\", \"entity_label\": \"time\"},\n",
    "        {\"entity_text\": \"A3图书馆\", \"entity_label\": \"facility_name\"}\n",
    "    ]\n",
    "}\n",
    "```\n",
    "\n",
    "### 支持的实体类型\n",
    "- `business_name`: 商铺名称\n",
    "- `restaurant_name`: 餐厅名称\n",
    "- `facility_name`: 设施名称\n",
    "- `building_name`: 建筑名称\n",
    "- `handbook_topic`: 手册主题\n",
    "- `time`: 时间表达\n",
    "- `location`: 地点表达\n",
    "\n",
    "### 使用步骤\n",
    "1. 创建生成器实例: `entity_generator=entity_data_generator()`\n",
    "2. 生成数据: `entity_generator.generate_all_categories(num_query_per_entity=3)`\n",
    "3. 保存数据: `entity_generator.save_entity_data(\"path/to/file.json\")`\n",
    "4. 验证数据: `validate_entity_data(\"path/to/file.json\")`\n"
   ]
  }
 ],
 "metadata": {
  "kernelspec": {
   "display_name": "Python 3",
   "language": "python",
   "name": "python3"
  },
  "language_info": {
   "codemirror_mode": {
    "name": "ipython",
    "version": 3
   },
   "file_extension": ".py",
   "mimetype": "text/x-python",
   "name": "python",
   "nbconvert_exporter": "python",
   "pygments_lexer": "ipython3",
   "version": "3.12.6"
  }
 },
 "nbformat": 4,
 "nbformat_minor": 5
}
