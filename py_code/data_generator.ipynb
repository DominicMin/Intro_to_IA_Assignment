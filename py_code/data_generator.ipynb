{
 "cells": [
  {
   "cell_type": "markdown",
   "id": "21748f29",
   "metadata": {},
   "source": [
    "### Import modules and write LLM instructions"
   ]
  },
  {
   "cell_type": "code",
   "execution_count": 4,
   "metadata": {},
   "outputs": [],
   "source": [
    "import os\n",
    "import re\n",
    "import json\n",
    "from tqdm.auto import tqdm\n",
    "import pickle\n",
    "import json\n",
    "\n",
    "import ollama\n",
    "model=\"llama3.1:8b\""
   ]
  },
  {
   "cell_type": "code",
   "execution_count": 2,
   "id": "d13d3d34",
   "metadata": {},
   "outputs": [],
   "source": [
    "intent_instruction='''You are an expert NLU data generation assistant for a campus chatbot.\n",
    "Your task is to generate {num_query} varied data items for given entity and intent.\n",
    "**Instructions:**\n",
    "1. You should generate {num_query} possible queries corresponding to the given entity and intent.\n",
    "2. The output should be a vaild json snippet like {example}\n",
    "3. The {num_query} queries should be included in a list.\n",
    "in json file that is \"query\":[{num_query} generated] \n",
    "4. Each possible query must contain one or some of the given entities.\n",
    "5. Each possible query must contain one or some of the given intents.\n",
    "6. You CANNOT add new eneities in the generated query! \n",
    "For example:\n",
    "\"intent\": \"ask_business_location\", \"generated_query\":\"What are the business hours of KIMS SALON?\"\n",
    "then a NEW intent \"ask_business_time\" is added.\n",
    "7. Output json snippet ONLY. \n",
    "\n",
    "**Exapmle:**\n",
    "{\n",
    "  \"query\": [\"where is Nasi Kandar restaurant?\", \"how can i go to Nasi Kandar restaurant?\"],\n",
    "  \"intent\": \"ask_restaurant_location\",\n",
    "  \"entities\": [\n",
    "    {\"Nasi Kandar restaurant\":\"restaurant_name\"} \n",
    "  ]\n",
    "}\n",
    "'''"
   ]
  },
  {
   "cell_type": "markdown",
   "id": "99751827",
   "metadata": {},
   "source": [
    "### Construct a class for intent generation"
   ]
  },
  {
   "cell_type": "code",
   "execution_count": 3,
   "id": "683d75ec",
   "metadata": {},
   "outputs": [],
   "source": [
    "class intent_data_generator:\n",
    "    def __init__(self,intent_lib_path=r\"data\\extracted_json\\database.json\"):\n",
    "        self.data=json.load(open(intent_lib_path,\"r\",encoding=\"utf-8\"))\n",
    "        self.categories=list(self.data.keys())\n",
    "        self.intent_responses={\n",
    "          category:None for category in self.categories\n",
    "        }\n",
    "    \n",
    "    def create_intent_prompt(self,category,num_query):\n",
    "        message_set=[\n",
    "          {\"role\":\"system\",\"content\":intent_instruction}\n",
    "          ]\n",
    "        for intent in self.data[category][\"possible_intent\"]:\n",
    "          for entity_item in list(self.data[category].values())[1:]:\n",
    "            for entity_name in entity_item[\"possible_name\"]:\n",
    "                prompt=f\"\"\"**Your Task:**\n",
    "                Generate {num_query} new and unique query examples for the intent '{intent}' containing entity {entity_name}:{category}.\n",
    "                \"\"\"\n",
    "                message_set.append({\n",
    "                \"role\":\"user\",\n",
    "                \"content\":prompt\n",
    "                })\n",
    "        return message_set\n",
    "    \n",
    "    def get_intent_response(self,category,num_query):\n",
    "      message_set=self.create_intent_prompt(category,num_query)\n",
    "      response_set=[]\n",
    "      for msg in tqdm(message_set[1:],desc=f\"Generating data for {category}\"):\n",
    "        try:\n",
    "            response=ollama.chat(model=model, messages=[\n",
    "                  message_set[0],msg\n",
    "                ])[\"message\"][\"content\"]\n",
    "\n",
    "            response=re.sub(\n",
    "              pattern=r\"```json\\n|\\n```\",\n",
    "              repl='',\n",
    "              string=response\n",
    "            )\n",
    "            try:\n",
    "                json.loads(response)\n",
    "                response_set.append(response)\n",
    "            except json.JSONDecodeError:\n",
    "                print(f\"Warning: Invalid JSON response for {category}, skipping this item\")\n",
    "                continue\n",
    "                \n",
    "        except Exception as e:\n",
    "            print(f\"Error generating response for {category}: {e}\")\n",
    "            continue\n",
    "            \n",
    "      self.intent_responses[category]=response_set\n",
    "\n",
    "    def save_intent_data(self,file_path):\n",
    "        \n",
    "        with open(file_path,\"w\",encoding=\"utf-8\") as f:\n",
    "            f.write(\"{\\n\")\n",
    "            valid_categories=[]\n",
    "            \n",
    "            for category in self.categories:\n",
    "                if (self.intent_responses[category] is not None and \n",
    "                    len(self.intent_responses[category]) > 0):\n",
    "                    valid_categories.append(category)\n",
    "            \n",
    "            for i, category in enumerate(valid_categories):\n",
    "                f.write(f'\"{category}\":[\\n')\n",
    "                \n",
    "                valid_items=[]\n",
    "                for data_item in self.intent_responses[category]:\n",
    "                    try:\n",
    "                        # Verify JSON format\n",
    "                        json.loads(data_item)\n",
    "                        valid_items.append(data_item)\n",
    "                    except json.JSONDecodeError:\n",
    "                        print(f\"Warning: Skipping invalid JSON item in {category}\")\n",
    "                        continue\n",
    "                \n",
    "                # Write only the valid data items\n",
    "                for j, data_item in enumerate(valid_items):\n",
    "                    f.write(data_item)\n",
    "                    if j == len(valid_items) - 1:\n",
    "                        f.write(\"\\n\")\n",
    "                    else:\n",
    "                        f.write(\",\\n\")\n",
    "                \n",
    "                # Add comma between categories\n",
    "                if i == len(valid_categories) - 1:\n",
    "                    f.write(\"]\\n\")\n",
    "                else:\n",
    "                    f.write(\"],\\n\")\n",
    "                    \n",
    "            f.write(\"}\")\n",
    "            \n",
    "        print(f\"Training data saved to {file_path}\")\n",
    "        print(f\"Successfully saved categories: {valid_categories}\")\n",
    "        for category in self.categories:\n",
    "            if category not in valid_categories:\n",
    "                print(f\"Warning: {category} category has no valid data\")\n"
   ]
  },
  {
   "cell_type": "code",
   "execution_count": 4,
   "id": "9eab320a",
   "metadata": {},
   "outputs": [],
   "source": [
    "intent_generator=intent_data_generator()"
   ]
  },
  {
   "cell_type": "markdown",
   "id": "717deebf",
   "metadata": {},
   "source": [
    "### Generate data for intent recognition"
   ]
  },
  {
   "cell_type": "code",
   "execution_count": 5,
   "id": "fff5cb55",
   "metadata": {},
   "outputs": [
    {
     "data": {
      "application/vnd.jupyter.widget-view+json": {
       "model_id": "46a3d3faa27446c2b3dd581e429d91d6",
       "version_major": 2,
       "version_minor": 0
      },
      "text/plain": [
       "Generating data for restaurant:   0%|          | 0/426 [00:00<?, ?it/s]"
      ]
     },
     "metadata": {},
     "output_type": "display_data"
    },
    {
     "name": "stdout",
     "output_type": "stream",
     "text": [
      "Warning: Invalid JSON response for restaurant, skipping this item\n"
     ]
    },
    {
     "data": {
      "application/vnd.jupyter.widget-view+json": {
       "model_id": "766be81d59c44b84a3bb14a217792c10",
       "version_major": 2,
       "version_minor": 0
      },
      "text/plain": [
       "Generating data for facility:   0%|          | 0/138 [00:00<?, ?it/s]"
      ]
     },
     "metadata": {},
     "output_type": "display_data"
    },
    {
     "name": "stdout",
     "output_type": "stream",
     "text": [
      "Warning: Invalid JSON response for facility, skipping this item\n",
      "Warning: Invalid JSON response for facility, skipping this item\n",
      "Warning: Invalid JSON response for facility, skipping this item\n"
     ]
    },
    {
     "data": {
      "application/vnd.jupyter.widget-view+json": {
       "model_id": "1257b4a1182e4178ab76aea5195c1464",
       "version_major": 2,
       "version_minor": 0
      },
      "text/plain": [
       "Generating data for building:   0%|          | 0/44 [00:00<?, ?it/s]"
      ]
     },
     "metadata": {},
     "output_type": "display_data"
    },
    {
     "name": "stdout",
     "output_type": "stream",
     "text": [
      "Warning: Invalid JSON response for building, skipping this item\n",
      "Warning: Invalid JSON response for building, skipping this item\n",
      "Warning: Invalid JSON response for building, skipping this item\n",
      "Warning: Invalid JSON response for building, skipping this item\n",
      "Warning: Invalid JSON response for building, skipping this item\n"
     ]
    },
    {
     "data": {
      "application/vnd.jupyter.widget-view+json": {
       "model_id": "722df1165bad43ee82e63fd640385685",
       "version_major": 2,
       "version_minor": 0
      },
      "text/plain": [
       "Generating data for handbook:   0%|          | 0/154 [00:00<?, ?it/s]"
      ]
     },
     "metadata": {},
     "output_type": "display_data"
    },
    {
     "name": "stdout",
     "output_type": "stream",
     "text": [
      "Warning: Invalid JSON response for handbook, skipping this item\n"
     ]
    },
    {
     "data": {
      "application/vnd.jupyter.widget-view+json": {
       "model_id": "0066ac7c2d2e4807a632ad86ecafdb3e",
       "version_major": 2,
       "version_minor": 0
      },
      "text/plain": [
       "Generating data for greeting:   0%|          | 0/125 [00:00<?, ?it/s]"
      ]
     },
     "metadata": {},
     "output_type": "display_data"
    },
    {
     "name": "stdout",
     "output_type": "stream",
     "text": [
      "Warning: Invalid JSON response for greeting, skipping this item\n",
      "Warning: Invalid JSON response for greeting, skipping this item\n",
      "Warning: Invalid JSON response for greeting, skipping this item\n",
      "Warning: Invalid JSON response for greeting, skipping this item\n",
      "Warning: Invalid JSON response for greeting, skipping this item\n",
      "Warning: Invalid JSON response for greeting, skipping this item\n",
      "Warning: Invalid JSON response for greeting, skipping this item\n",
      "Warning: Invalid JSON response for greeting, skipping this item\n",
      "Warning: Invalid JSON response for greeting, skipping this item\n",
      "Warning: Invalid JSON response for greeting, skipping this item\n",
      "Warning: Invalid JSON response for greeting, skipping this item\n",
      "Warning: Invalid JSON response for greeting, skipping this item\n",
      "Warning: Invalid JSON response for greeting, skipping this item\n"
     ]
    }
   ],
   "source": [
    "for c in intent_generator.categories:\n",
    "    intent_generator.get_intent_response(c,4)\n",
    "with open(\"data/train_data/intent_generator.pkl\", \"wb\") as f:\n",
    "    pickle.dump(intent_generator, f)"
   ]
  },
  {
   "cell_type": "code",
   "execution_count": 6,
   "id": "6dfafdfa",
   "metadata": {},
   "outputs": [
    {
     "name": "stdout",
     "output_type": "stream",
     "text": [
      "Training data saved to data/train_data/intent_train_data.json\n",
      "Successfully saved categories: ['restaurant', 'facility', 'building', 'handbook', 'greeting']\n"
     ]
    }
   ],
   "source": [
    "with open(\"data/train_data/intent_generator.pkl\",\"rb\") as f:\n",
    "    intent_generator=pickle.load(f)\n",
    "intent_generator.save_intent_data(\"data/train_data/intent_train_data.json\")"
   ]
  },
  {
   "cell_type": "markdown",
   "id": "1606ca93",
   "metadata": {},
   "source": [
    "### Construct a class for entity recognition"
   ]
  },
  {
   "cell_type": "code",
   "execution_count": 5,
   "id": "c42218f5",
   "metadata": {},
   "outputs": [],
   "source": [
    "# 实体识别数据生成指令\n",
    "entity_instruction='''You are an expert NER (Named Entity Recognition) data generation assistant for a campus chatbot.\n",
    "Your task is to generate training data for entity recognition in Chinese queries.\n",
    "\n",
    "**Your Task:**\n",
    "Generate varied Chinese query examples that contain entities from the given categories and entity types.\n",
    "\n",
    "**Output Format:**\n",
    "Each generated item should be a JSON object with this exact structure:\n",
    "{\n",
    "    \"query\": \"I want to go to A3 library tomorrow morning\",\n",
    "    \"entities\": [\n",
    "        {\"entity_text\": \"tomorrow morning\", \"entity_label\": \"time\"},\n",
    "        {\"entity_text\": \"A3 library\", \"entity_label\": \"facility_name\"}\n",
    "    ]\n",
    "}\n",
    "\n",
    "**Entity Label Types:**\n",
    "- business_name: business name (e.g. KK便利店, KIMS SALON)\n",
    "- restaurant_name: restaurant name (e.g. 夏1城, 大树下)\n",
    "- facility_name: facility name (e.g. library, gym, swimming pool)\n",
    "- building_name: building name (e.g. B1 Activity Building, A Zone Teaching Building)\n",
    "- handbook_topic: handbook topic (e.g. birthday cake recommendation, campus clinic)\n",
    "- time: time expression (e.g. tomorrow morning, next Wednesday, tonight)\n",
    "- location: location expression (e.g. on campus, below the dormitory)\n",
    "\n",
    "**Instructions:**\n",
    "1. Generate natural Chinese queries that students would ask\n",
    "2. Include 1-3 entities per query\n",
    "3. Entities must match the provided entity names exactly\n",
    "4. Time and location entities can be flexible expressions\n",
    "5. Output valid JSON only, no additional text\n",
    "6. Each query should be realistic and contextually appropriate\n",
    "\n",
    "**Example:**\n",
    "{\n",
    "    \"query\": [\"What is the opening time of KIMS SALON tomorrow?\", \"What is the opening time of KIMS SALON tomorrow?\"],\n",
    "    \"entities\": [\n",
    "        {\"entity_text\": \"KIMS SALON\", \"entity_label\": \"business_name\"},\n",
    "        {\"entity_text\": \"tomorrow\", \"entity_label\": \"time\"}\n",
    "    ]\n",
    "}\n",
    "'''"
   ]
  },
  {
   "cell_type": "code",
   "execution_count": 6,
   "id": "ba0ec7a0",
   "metadata": {},
   "outputs": [],
   "source": [
    "class entity_data_generator:\n",
    "    def __init__(self, intent_lib_path=r\"data\\extracted_json\\database.json\"):\n",
    "        self.data=json.load(open(intent_lib_path, \"r\", encoding=\"utf-8\"))\n",
    "        self.categories=list(self.data.keys())\n",
    "        self.entity_responses={\n",
    "            category: None for category in self.categories\n",
    "        }\n",
    "    \n",
    "    def create_entity_prompt(self, category, num_query):\n",
    "        # entity_label=self.entity_label_mapping[category]\n",
    "        entity_label=category\n",
    "        entity_names=[]\n",
    "        for catagory in self.categories:\n",
    "            for entity_item in list(self.data[catagory].values())[1:]:\n",
    "                entity_names.extend(entity_item[\"possible_name\"])\n",
    "        \n",
    "        message_set=[\n",
    "            {\"role\": \"system\", \"content\": entity_instruction}\n",
    "        ]\n",
    "        \n",
    "        # 为每个实体名称创建生成任务\n",
    "        for entity_name in entity_names:\n",
    "            prompt=f\"\"\"**Your Task:**\n",
    "Generate {num_query} English query examples containing the entity \"{entity_name}\".\n",
    "\n",
    "**Requirements:**\n",
    "1. Each query must contain \"{entity_name}\" as an entity\n",
    "2. Output format:\n",
    "{{\n",
    "  \"query\": [\"query1\", \"query2\", \"query3\"],\n",
    "  \"entities\": [\n",
    "    {{\"entity_text\": \"entity_name\", \"entity_label\": \"entity_label\"}}\n",
    "  ]\n",
    "}}\n",
    "3. Output json snippet ONLY. Do not add any other text.\n",
    "\n",
    "**Entity to include:**\n",
    "- Entity: \"{entity_name}\"\n",
    "- Label: \"{entity_label}\"\n",
    "\"\"\"\n",
    "            message_set.append({\n",
    "                \"role\": \"user\",\n",
    "                \"content\": prompt\n",
    "            })\n",
    "        \n",
    "        return message_set\n",
    "    \n",
    "    def get_entity_response(self, category, num_query):\n",
    "        message_set=self.create_entity_prompt(category, num_query)\n",
    "        response_set=[]\n",
    "        \n",
    "        for msg in tqdm(message_set[1:], desc=f\"Generating entity data for {category}\"):\n",
    "\n",
    "            response=ollama.chat(model=model, messages=[\n",
    "                message_set[0], msg\n",
    "            ])[\"message\"][\"content\"]\n",
    "            \n",
    "            response=re.sub(\n",
    "                pattern=r\"```json\\n|\\n```|```\",\n",
    "                repl='',\n",
    "                string=response\n",
    "            )\n",
    "            \n",
    "            try:\n",
    "                json.loads(response)\n",
    "                response_set.append(response)\n",
    "            except json.JSONDecodeError:\n",
    "                print(f\"Warning: Invalid JSON response for {category}, skipping this item\")\n",
    "                continue\n",
    "            except Exception as e:\n",
    "                print(f\"Error generating response for {category}: {e}\")\n",
    "                continue\n",
    "        \n",
    "        self.entity_responses[category]=response_set\n",
    "    \n",
    "    def save_entity_data(self,file_path=\"data/train_data/entity_train_data.json\"):\n",
    "        \n",
    "        with open(file_path,\"w\",encoding=\"utf-8\") as f:\n",
    "            f.write(\"{\\n\")\n",
    "            valid_categories=[]\n",
    "            \n",
    "            \n",
    "            for category in self.categories:\n",
    "                if (self.entity_responses[category] is not None and \n",
    "                    len(self.entity_responses[category]) > 0):\n",
    "                    valid_categories.append(category)\n",
    "            \n",
    "            for i, category in enumerate(valid_categories):\n",
    "                f.write(f'\"{category}\":[\\n')\n",
    "                \n",
    "                # Filter out valid JSON data items\n",
    "                valid_items=[]\n",
    "                for data_item in self.entity_responses[category]:\n",
    "                    try:\n",
    "                        # Verify JSON format\n",
    "                        json.loads(data_item)\n",
    "                        valid_items.append(data_item)\n",
    "                    except json.JSONDecodeError:\n",
    "                        print(f\"Warning: Skipping invalid JSON item in {category}\")\n",
    "                        continue\n",
    "                \n",
    "                # Write only thevalid data items\n",
    "                for j, data_item in enumerate(valid_items):\n",
    "                    f.write(data_item)\n",
    "                    if j == len(valid_items) - 1:\n",
    "                        f.write(\"\\n\")\n",
    "                    else:\n",
    "                        f.write(\",\\n\")\n",
    "                \n",
    "                # Add comma between categories\n",
    "                if i == len(valid_categories) - 1:\n",
    "                    f.write(\"]\\n\")\n",
    "                else:\n",
    "                    f.write(\"],\\n\")\n",
    "                    \n",
    "            f.write(\"}\")\n",
    "            \n",
    "        print(f\"Data saved to {file_path}\")\n",
    "        print(f\"Successfully saved categories: {valid_categories}\")\n",
    "        for category in self.categories:\n",
    "            if category not in valid_categories:\n",
    "                print(f\"Warning: no valid data for {category}\")\n"
   ]
  },
  {
   "cell_type": "code",
   "execution_count": 7,
   "id": "6a216e96",
   "metadata": {},
   "outputs": [],
   "source": [
    "# Create entity data generator\n",
    "entity_generator=entity_data_generator()"
   ]
  },
  {
   "cell_type": "markdown",
   "id": "ac50ee12",
   "metadata": {},
   "source": [
    "### Generate data for entity recognition"
   ]
  },
  {
   "cell_type": "code",
   "execution_count": 8,
   "id": "5d327c53",
   "metadata": {},
   "outputs": [
    {
     "data": {
      "application/vnd.jupyter.widget-view+json": {
       "model_id": "75eda1a8b3be446a897a3bbdf4014f4b",
       "version_major": 2,
       "version_minor": 0
      },
      "text/plain": [
       "Generating data:   0%|          | 0/5 [00:00<?, ?it/s]"
      ]
     },
     "metadata": {},
     "output_type": "display_data"
    },
    {
     "data": {
      "application/vnd.jupyter.widget-view+json": {
       "model_id": "c2cf3b49478d40e7b5c9aa882ca0c3c9",
       "version_major": 2,
       "version_minor": 0
      },
      "text/plain": [
       "Generating entity data for restaurant:   0%|          | 0/371 [00:00<?, ?it/s]"
      ]
     },
     "metadata": {},
     "output_type": "display_data"
    },
    {
     "name": "stdout",
     "output_type": "stream",
     "text": [
      "Warning: Invalid JSON response for restaurant, skipping this item\n",
      "Warning: Invalid JSON response for restaurant, skipping this item\n",
      "Warning: Invalid JSON response for restaurant, skipping this item\n",
      "Warning: Invalid JSON response for restaurant, skipping this item\n",
      "Warning: Invalid JSON response for restaurant, skipping this item\n",
      "Warning: Invalid JSON response for restaurant, skipping this item\n",
      "Warning: Invalid JSON response for restaurant, skipping this item\n",
      "Warning: Invalid JSON response for restaurant, skipping this item\n",
      "Warning: Invalid JSON response for restaurant, skipping this item\n",
      "Warning: Invalid JSON response for restaurant, skipping this item\n",
      "Warning: Invalid JSON response for restaurant, skipping this item\n",
      "Warning: Invalid JSON response for restaurant, skipping this item\n",
      "Warning: Invalid JSON response for restaurant, skipping this item\n",
      "Warning: Invalid JSON response for restaurant, skipping this item\n",
      "Warning: Invalid JSON response for restaurant, skipping this item\n",
      "Warning: Invalid JSON response for restaurant, skipping this item\n",
      "Warning: Invalid JSON response for restaurant, skipping this item\n",
      "Warning: Invalid JSON response for restaurant, skipping this item\n"
     ]
    },
    {
     "data": {
      "application/vnd.jupyter.widget-view+json": {
       "model_id": "28b4bf11bfed43198d63b5a3d026c78f",
       "version_major": 2,
       "version_minor": 0
      },
      "text/plain": [
       "Generating entity data for facility:   0%|          | 0/371 [00:00<?, ?it/s]"
      ]
     },
     "metadata": {},
     "output_type": "display_data"
    },
    {
     "name": "stdout",
     "output_type": "stream",
     "text": [
      "Warning: Invalid JSON response for facility, skipping this item\n",
      "Warning: Invalid JSON response for facility, skipping this item\n",
      "Warning: Invalid JSON response for facility, skipping this item\n",
      "Warning: Invalid JSON response for facility, skipping this item\n",
      "Warning: Invalid JSON response for facility, skipping this item\n",
      "Warning: Invalid JSON response for facility, skipping this item\n",
      "Warning: Invalid JSON response for facility, skipping this item\n",
      "Warning: Invalid JSON response for facility, skipping this item\n",
      "Warning: Invalid JSON response for facility, skipping this item\n",
      "Warning: Invalid JSON response for facility, skipping this item\n",
      "Warning: Invalid JSON response for facility, skipping this item\n",
      "Warning: Invalid JSON response for facility, skipping this item\n",
      "Warning: Invalid JSON response for facility, skipping this item\n",
      "Warning: Invalid JSON response for facility, skipping this item\n",
      "Warning: Invalid JSON response for facility, skipping this item\n"
     ]
    },
    {
     "data": {
      "application/vnd.jupyter.widget-view+json": {
       "model_id": "af6b761a77fe4913841a7b1867b5e79b",
       "version_major": 2,
       "version_minor": 0
      },
      "text/plain": [
       "Generating entity data for building:   0%|          | 0/371 [00:00<?, ?it/s]"
      ]
     },
     "metadata": {},
     "output_type": "display_data"
    },
    {
     "name": "stdout",
     "output_type": "stream",
     "text": [
      "Warning: Invalid JSON response for building, skipping this item\n",
      "Warning: Invalid JSON response for building, skipping this item\n",
      "Warning: Invalid JSON response for building, skipping this item\n",
      "Warning: Invalid JSON response for building, skipping this item\n",
      "Warning: Invalid JSON response for building, skipping this item\n",
      "Warning: Invalid JSON response for building, skipping this item\n",
      "Warning: Invalid JSON response for building, skipping this item\n",
      "Warning: Invalid JSON response for building, skipping this item\n",
      "Warning: Invalid JSON response for building, skipping this item\n",
      "Warning: Invalid JSON response for building, skipping this item\n",
      "Warning: Invalid JSON response for building, skipping this item\n",
      "Warning: Invalid JSON response for building, skipping this item\n",
      "Warning: Invalid JSON response for building, skipping this item\n",
      "Warning: Invalid JSON response for building, skipping this item\n",
      "Warning: Invalid JSON response for building, skipping this item\n",
      "Warning: Invalid JSON response for building, skipping this item\n",
      "Warning: Invalid JSON response for building, skipping this item\n",
      "Warning: Invalid JSON response for building, skipping this item\n",
      "Warning: Invalid JSON response for building, skipping this item\n",
      "Warning: Invalid JSON response for building, skipping this item\n",
      "Warning: Invalid JSON response for building, skipping this item\n",
      "Warning: Invalid JSON response for building, skipping this item\n",
      "Warning: Invalid JSON response for building, skipping this item\n",
      "Warning: Invalid JSON response for building, skipping this item\n"
     ]
    },
    {
     "data": {
      "application/vnd.jupyter.widget-view+json": {
       "model_id": "1ab931159ed84298bcee7a99cddebb11",
       "version_major": 2,
       "version_minor": 0
      },
      "text/plain": [
       "Generating entity data for handbook:   0%|          | 0/371 [00:00<?, ?it/s]"
      ]
     },
     "metadata": {},
     "output_type": "display_data"
    },
    {
     "name": "stdout",
     "output_type": "stream",
     "text": [
      "Warning: Invalid JSON response for handbook, skipping this item\n",
      "Warning: Invalid JSON response for handbook, skipping this item\n",
      "Warning: Invalid JSON response for handbook, skipping this item\n",
      "Warning: Invalid JSON response for handbook, skipping this item\n",
      "Warning: Invalid JSON response for handbook, skipping this item\n",
      "Warning: Invalid JSON response for handbook, skipping this item\n",
      "Warning: Invalid JSON response for handbook, skipping this item\n",
      "Warning: Invalid JSON response for handbook, skipping this item\n",
      "Warning: Invalid JSON response for handbook, skipping this item\n",
      "Warning: Invalid JSON response for handbook, skipping this item\n",
      "Warning: Invalid JSON response for handbook, skipping this item\n",
      "Warning: Invalid JSON response for handbook, skipping this item\n",
      "Warning: Invalid JSON response for handbook, skipping this item\n",
      "Warning: Invalid JSON response for handbook, skipping this item\n",
      "Warning: Invalid JSON response for handbook, skipping this item\n",
      "Warning: Invalid JSON response for handbook, skipping this item\n",
      "Warning: Invalid JSON response for handbook, skipping this item\n",
      "Warning: Invalid JSON response for handbook, skipping this item\n",
      "Warning: Invalid JSON response for handbook, skipping this item\n",
      "Warning: Invalid JSON response for handbook, skipping this item\n",
      "Warning: Invalid JSON response for handbook, skipping this item\n",
      "Warning: Invalid JSON response for handbook, skipping this item\n",
      "Warning: Invalid JSON response for handbook, skipping this item\n",
      "Warning: Invalid JSON response for handbook, skipping this item\n",
      "Warning: Invalid JSON response for handbook, skipping this item\n",
      "Warning: Invalid JSON response for handbook, skipping this item\n",
      "Warning: Invalid JSON response for handbook, skipping this item\n",
      "Warning: Invalid JSON response for handbook, skipping this item\n"
     ]
    },
    {
     "data": {
      "application/vnd.jupyter.widget-view+json": {
       "model_id": "c0e2b01fbba6488ca3a7d884c6cf1c19",
       "version_major": 2,
       "version_minor": 0
      },
      "text/plain": [
       "Generating entity data for greeting:   0%|          | 0/371 [00:00<?, ?it/s]"
      ]
     },
     "metadata": {},
     "output_type": "display_data"
    },
    {
     "name": "stdout",
     "output_type": "stream",
     "text": [
      "Warning: Invalid JSON response for greeting, skipping this item\n",
      "Warning: Invalid JSON response for greeting, skipping this item\n",
      "Warning: Invalid JSON response for greeting, skipping this item\n",
      "Warning: Invalid JSON response for greeting, skipping this item\n",
      "Warning: Invalid JSON response for greeting, skipping this item\n",
      "Warning: Invalid JSON response for greeting, skipping this item\n",
      "Warning: Invalid JSON response for greeting, skipping this item\n",
      "Warning: Invalid JSON response for greeting, skipping this item\n",
      "Warning: Invalid JSON response for greeting, skipping this item\n",
      "Warning: Invalid JSON response for greeting, skipping this item\n",
      "Warning: Invalid JSON response for greeting, skipping this item\n",
      "Warning: Invalid JSON response for greeting, skipping this item\n",
      "Warning: Invalid JSON response for greeting, skipping this item\n",
      "Warning: Invalid JSON response for greeting, skipping this item\n",
      "Warning: Invalid JSON response for greeting, skipping this item\n",
      "Warning: Invalid JSON response for greeting, skipping this item\n",
      "Warning: Invalid JSON response for greeting, skipping this item\n",
      "Warning: Invalid JSON response for greeting, skipping this item\n",
      "Warning: Invalid JSON response for greeting, skipping this item\n",
      "Warning: Invalid JSON response for greeting, skipping this item\n",
      "Warning: Invalid JSON response for greeting, skipping this item\n",
      "Warning: Invalid JSON response for greeting, skipping this item\n",
      "Warning: Invalid JSON response for greeting, skipping this item\n",
      "Warning: Invalid JSON response for greeting, skipping this item\n",
      "Warning: Invalid JSON response for greeting, skipping this item\n",
      "Warning: Invalid JSON response for greeting, skipping this item\n",
      "Warning: Invalid JSON response for greeting, skipping this item\n",
      "Warning: Invalid JSON response for greeting, skipping this item\n",
      "Warning: Invalid JSON response for greeting, skipping this item\n",
      "Warning: Invalid JSON response for greeting, skipping this item\n",
      "Warning: Invalid JSON response for greeting, skipping this item\n",
      "Warning: Invalid JSON response for greeting, skipping this item\n",
      "Warning: Invalid JSON response for greeting, skipping this item\n",
      "Warning: Invalid JSON response for greeting, skipping this item\n",
      "Warning: Invalid JSON response for greeting, skipping this item\n",
      "Warning: Invalid JSON response for greeting, skipping this item\n",
      "Warning: Invalid JSON response for greeting, skipping this item\n",
      "Warning: Invalid JSON response for greeting, skipping this item\n",
      "Warning: Invalid JSON response for greeting, skipping this item\n",
      "Warning: Invalid JSON response for greeting, skipping this item\n",
      "Warning: Invalid JSON response for greeting, skipping this item\n",
      "Warning: Invalid JSON response for greeting, skipping this item\n",
      "Warning: Invalid JSON response for greeting, skipping this item\n",
      "Warning: Invalid JSON response for greeting, skipping this item\n",
      "Warning: Invalid JSON response for greeting, skipping this item\n",
      "Warning: Invalid JSON response for greeting, skipping this item\n",
      "Warning: Invalid JSON response for greeting, skipping this item\n",
      "Warning: Invalid JSON response for greeting, skipping this item\n",
      "Warning: Invalid JSON response for greeting, skipping this item\n",
      "Warning: Invalid JSON response for greeting, skipping this item\n",
      "Warning: Invalid JSON response for greeting, skipping this item\n"
     ]
    }
   ],
   "source": [
    "for c in tqdm(entity_generator.categories,desc=\"Generating data\"):\n",
    "    entity_generator.get_entity_response(c,4)\n",
    "with open(\"data/train_data/entity_generator.pkl\", \"wb\") as f:\n",
    "    pickle.dump(entity_generator, f)"
   ]
  },
  {
   "cell_type": "code",
   "execution_count": 9,
   "id": "71cae452",
   "metadata": {},
   "outputs": [
    {
     "name": "stdout",
     "output_type": "stream",
     "text": [
      "Data saved to data/train_data/entity_train_data.json\n",
      "Successfully saved categories: ['restaurant', 'facility', 'building', 'handbook', 'greeting']\n"
     ]
    }
   ],
   "source": [
    "with open(\"data/train_data/entity_generator.pkl\",\"rb\") as f:\n",
    "    entity_generator=pickle.load(f)\n",
    "entity_generator.save_entity_data(\"data/train_data/entity_train_data.json\")"
   ]
  }
 ],
 "metadata": {
  "kernelspec": {
   "display_name": "Python 3",
   "language": "python",
   "name": "python3"
  },
  "language_info": {
   "codemirror_mode": {
    "name": "ipython",
    "version": 3
   },
   "file_extension": ".py",
   "mimetype": "text/x-python",
   "name": "python",
   "nbconvert_exporter": "python",
   "pygments_lexer": "ipython3",
   "version": "3.12.6"
  }
 },
 "nbformat": 4,
 "nbformat_minor": 5
}
