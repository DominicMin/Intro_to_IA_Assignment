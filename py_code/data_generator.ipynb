{
 "cells": [
  {
   "cell_type": "markdown",
   "id": "21748f29",
   "metadata": {},
   "source": [
    "### Import modules and write LLM instructions"
   ]
  },
  {
   "cell_type": "code",
   "execution_count": 12,
   "metadata": {},
   "outputs": [],
   "source": [
    "import os\n",
    "import re\n",
    "import json\n",
    "from tqdm.auto import tqdm\n",
    "import pickle\n",
    "import json\n",
    "\n",
    "from openai import OpenAI\n",
    "api_key=json.load(open(\"api.json\"))[0]\n",
    "client=OpenAI(api_key=api_key, base_url=\"https://api.deepseek.com\")\n",
    "\n",
    "import ollama\n",
    "model=\"llama3.1:8b\""
   ]
  },
  {
   "cell_type": "code",
   "execution_count": 13,
   "id": "d13d3d34",
   "metadata": {},
   "outputs": [],
   "source": [
    "intent_instruction='''You are an expert NLU data generation assistant for a campus chatbot.\n",
    "Your task is to generate {num_query} varied data items for given entity and intent.\n",
    "**Instructions:**\n",
    "1. You should generate {num_query} possible queries corresponding to the given entity and intent.\n",
    "2. The output should be a vaild json snippet like {example}\n",
    "3. The {num_query} queries should be included in a list.\n",
    "in json file that is \"query\":[{num_query} generated] \n",
    "4. Each possible query must contain one or some of the given entities.\n",
    "5. Each possible query must contain one or some of the given intents.\n",
    "6. You CANNOT add new eneities in the generated query! \n",
    "For example:\n",
    "\"intent\": \"ask_business_location\", \"generated_query\":\"What are the business hours of KIMS SALON?\"\n",
    "then a NEW intent \"ask_business_time\" is added.\n",
    "7. Output json snippet ONLY. \n",
    "\n",
    "**Exapmle:**\n",
    "{\n",
    "  \"query\": [\"where is Nasi Kandar restaurant?\", \"how can i go to Nasi Kandar restaurant?\"],\n",
    "  \"intent\": \"ask_restaurant_location\",\n",
    "  \"entities\": [\n",
    "    {\"Nasi Kandar restaurant\":\"restaurant_name\"} \n",
    "  ]\n",
    "}\n",
    "'''"
   ]
  },
  {
   "cell_type": "markdown",
   "id": "99751827",
   "metadata": {},
   "source": [
    "### Construct a class for intent generation"
   ]
  },
  {
   "cell_type": "code",
   "execution_count": 16,
   "id": "683d75ec",
   "metadata": {},
   "outputs": [],
   "source": [
    "class intent_data_generator:\n",
    "    def __init__(self,intent_lib_path=r\"data\\IE\\IE_lib.json\"):\n",
    "        self.data=json.load(open(intent_lib_path,\"r\",encoding=\"utf-8\"))\n",
    "        self.categories=list(self.data.keys())\n",
    "        self.intent_responses={\n",
    "          category:None for category in self.categories\n",
    "        }\n",
    "    \n",
    "    def create_intent_prompt(self,category,num_query):\n",
    "        message_set=[\n",
    "          {\"role\":\"system\",\"content\":intent_instruction}\n",
    "          ]\n",
    "        for intent in self.data[category][1:]:\n",
    "          for entity_name in self.data[category][0]:\n",
    "            prompt=f\"\"\"**Your Task:**\n",
    "            Generate {num_query} new and unique query examples for the intent '{intent}' containing entity {entity_name}:{category}.\n",
    "            \"\"\"\n",
    "            message_set.append({\n",
    "              \"role\":\"user\",\n",
    "              \"content\":prompt\n",
    "            })\n",
    "        return message_set\n",
    "    \n",
    "    def get_intent_response(self,category,num_query):\n",
    "      message_set=self.create_intent_prompt(category,num_query)\n",
    "      response_set=[]\n",
    "      for msg in tqdm(message_set[1:],desc=f\"Generating data for {category}\"):\n",
    "        try:\n",
    "            # response=client.chat.completions.create(\n",
    "            #     model=\"deepseek-chat\",\n",
    "            #     messages=[\n",
    "            #       message_set[0],msg\n",
    "            #     ],\n",
    "            #     stream=False\n",
    "            # ).choices[0].message.content\n",
    "            response=ollama.chat(model=model, messages=[\n",
    "                  message_set[0],msg\n",
    "                ])[\"message\"][\"content\"]\n",
    "\n",
    "            response=re.sub(\n",
    "              pattern=r\"```json\\n|\\n```\",\n",
    "              repl='',\n",
    "              string=response\n",
    "            )\n",
    "            try:\n",
    "                json.loads(response)\n",
    "                response_set.append(response)\n",
    "            except json.JSONDecodeError:\n",
    "                print(f\"Warning: Invalid JSON response for {category}, skipping this item\")\n",
    "                continue\n",
    "                \n",
    "        except Exception as e:\n",
    "            print(f\"Error generating response for {category}: {e}\")\n",
    "            continue\n",
    "            \n",
    "      self.intent_responses[category]=response_set\n",
    "\n",
    "    def save_intent_data(self,file_path):\n",
    "        # 使用写入模式而不是追加模式\n",
    "        with open(file_path,\"w\",encoding=\"utf-8\") as f:\n",
    "            f.write(\"{\\n\")\n",
    "            valid_categories=[]\n",
    "            \n",
    "            # 先过滤出有有效数据的类别\n",
    "            for category in self.categories:\n",
    "                if (self.responses[category] is not None and \n",
    "                    len(self.responses[category]) > 0):\n",
    "                    valid_categories.append(category)\n",
    "            \n",
    "            for i, category in enumerate(valid_categories):\n",
    "                f.write(f'\"{category}\":[\\n')\n",
    "                \n",
    "                # 过滤出有效的JSON数据项\n",
    "                valid_items=[]\n",
    "                for data_item in self.responses[category]:\n",
    "                    try:\n",
    "                        # 验证JSON格式\n",
    "                        json.loads(data_item)\n",
    "                        valid_items.append(data_item)\n",
    "                    except json.JSONDecodeError:\n",
    "                        print(f\"Warning: Skipping invalid JSON item in {category}\")\n",
    "                        continue\n",
    "                \n",
    "                # 写入有效的数据项\n",
    "                for j, data_item in enumerate(valid_items):\n",
    "                    f.write(data_item)\n",
    "                    if j == len(valid_items) - 1:\n",
    "                        f.write(\"\\n\")\n",
    "                    else:\n",
    "                        f.write(\",\\n\")\n",
    "                \n",
    "                # 添加类别间的逗号\n",
    "                if i == len(valid_categories) - 1:\n",
    "                    f.write(\"]\\n\")\n",
    "                else:\n",
    "                    f.write(\"],\\n\")\n",
    "                    \n",
    "            f.write(\"}\")\n",
    "            \n",
    "        print(f\"数据已保存到 {file_path}\")\n",
    "        print(f\"成功保存的类别: {valid_categories}\")\n",
    "        for category in self.categories:\n",
    "            if category not in valid_categories:\n",
    "                print(f\"警告: {category} 类别没有有效数据\")\n"
   ]
  },
  {
   "cell_type": "code",
   "execution_count": 15,
   "id": "9eab320a",
   "metadata": {},
   "outputs": [
    {
     "ename": "FileNotFoundError",
     "evalue": "[Errno 2] No such file or directory: 'data\\\\IE\\\\intent_lib.json'",
     "output_type": "error",
     "traceback": [
      "\u001b[1;31m---------------------------------------------------------------------------\u001b[0m",
      "\u001b[1;31mFileNotFoundError\u001b[0m                         Traceback (most recent call last)",
      "Cell \u001b[1;32mIn[15], line 1\u001b[0m\n\u001b[1;32m----> 1\u001b[0m intent_generator\u001b[38;5;241m=\u001b[39m\u001b[43mintent_data_generator\u001b[49m\u001b[43m(\u001b[49m\u001b[43m)\u001b[49m\n",
      "Cell \u001b[1;32mIn[14], line 3\u001b[0m, in \u001b[0;36mintent_data_generator.__init__\u001b[1;34m(self, intent_lib_path)\u001b[0m\n\u001b[0;32m      2\u001b[0m \u001b[38;5;28;01mdef\u001b[39;00m \u001b[38;5;21m__init__\u001b[39m(\u001b[38;5;28mself\u001b[39m,intent_lib_path\u001b[38;5;241m=\u001b[39m\u001b[38;5;124mr\u001b[39m\u001b[38;5;124m\"\u001b[39m\u001b[38;5;124mdata\u001b[39m\u001b[38;5;124m\\\u001b[39m\u001b[38;5;124mIE\u001b[39m\u001b[38;5;124m\\\u001b[39m\u001b[38;5;124mintent_lib.json\u001b[39m\u001b[38;5;124m\"\u001b[39m):\n\u001b[1;32m----> 3\u001b[0m     \u001b[38;5;28mself\u001b[39m\u001b[38;5;241m.\u001b[39mdata\u001b[38;5;241m=\u001b[39mjson\u001b[38;5;241m.\u001b[39mload(\u001b[38;5;28;43mopen\u001b[39;49m\u001b[43m(\u001b[49m\u001b[43mintent_lib_path\u001b[49m\u001b[43m,\u001b[49m\u001b[38;5;124;43m\"\u001b[39;49m\u001b[38;5;124;43mr\u001b[39;49m\u001b[38;5;124;43m\"\u001b[39;49m\u001b[43m,\u001b[49m\u001b[43mencoding\u001b[49m\u001b[38;5;241;43m=\u001b[39;49m\u001b[38;5;124;43m\"\u001b[39;49m\u001b[38;5;124;43mutf-8\u001b[39;49m\u001b[38;5;124;43m\"\u001b[39;49m\u001b[43m)\u001b[49m)\n\u001b[0;32m      4\u001b[0m     \u001b[38;5;28mself\u001b[39m\u001b[38;5;241m.\u001b[39mcategories\u001b[38;5;241m=\u001b[39m\u001b[38;5;28mlist\u001b[39m(\u001b[38;5;28mself\u001b[39m\u001b[38;5;241m.\u001b[39mdata\u001b[38;5;241m.\u001b[39mkeys())\n\u001b[0;32m      5\u001b[0m     \u001b[38;5;28mself\u001b[39m\u001b[38;5;241m.\u001b[39mintent_responses\u001b[38;5;241m=\u001b[39m{\n\u001b[0;32m      6\u001b[0m       category:\u001b[38;5;28;01mNone\u001b[39;00m \u001b[38;5;28;01mfor\u001b[39;00m category \u001b[38;5;129;01min\u001b[39;00m \u001b[38;5;28mself\u001b[39m\u001b[38;5;241m.\u001b[39mcategories\n\u001b[0;32m      7\u001b[0m     }\n",
      "File \u001b[1;32mc:\\Users\\DominicMin\\AppData\\Local\\Programs\\Python\\Python312\\Lib\\site-packages\\IPython\\core\\interactiveshell.py:324\u001b[0m, in \u001b[0;36m_modified_open\u001b[1;34m(file, *args, **kwargs)\u001b[0m\n\u001b[0;32m    317\u001b[0m \u001b[38;5;28;01mif\u001b[39;00m file \u001b[38;5;129;01min\u001b[39;00m {\u001b[38;5;241m0\u001b[39m, \u001b[38;5;241m1\u001b[39m, \u001b[38;5;241m2\u001b[39m}:\n\u001b[0;32m    318\u001b[0m     \u001b[38;5;28;01mraise\u001b[39;00m \u001b[38;5;167;01mValueError\u001b[39;00m(\n\u001b[0;32m    319\u001b[0m         \u001b[38;5;124mf\u001b[39m\u001b[38;5;124m\"\u001b[39m\u001b[38;5;124mIPython won\u001b[39m\u001b[38;5;124m'\u001b[39m\u001b[38;5;124mt let you open fd=\u001b[39m\u001b[38;5;132;01m{\u001b[39;00mfile\u001b[38;5;132;01m}\u001b[39;00m\u001b[38;5;124m by default \u001b[39m\u001b[38;5;124m\"\u001b[39m\n\u001b[0;32m    320\u001b[0m         \u001b[38;5;124m\"\u001b[39m\u001b[38;5;124mas it is likely to crash IPython. If you know what you are doing, \u001b[39m\u001b[38;5;124m\"\u001b[39m\n\u001b[0;32m    321\u001b[0m         \u001b[38;5;124m\"\u001b[39m\u001b[38;5;124myou can use builtins\u001b[39m\u001b[38;5;124m'\u001b[39m\u001b[38;5;124m open.\u001b[39m\u001b[38;5;124m\"\u001b[39m\n\u001b[0;32m    322\u001b[0m     )\n\u001b[1;32m--> 324\u001b[0m \u001b[38;5;28;01mreturn\u001b[39;00m \u001b[43mio_open\u001b[49m\u001b[43m(\u001b[49m\u001b[43mfile\u001b[49m\u001b[43m,\u001b[49m\u001b[43m \u001b[49m\u001b[38;5;241;43m*\u001b[39;49m\u001b[43margs\u001b[49m\u001b[43m,\u001b[49m\u001b[43m \u001b[49m\u001b[38;5;241;43m*\u001b[39;49m\u001b[38;5;241;43m*\u001b[39;49m\u001b[43mkwargs\u001b[49m\u001b[43m)\u001b[49m\n",
      "\u001b[1;31mFileNotFoundError\u001b[0m: [Errno 2] No such file or directory: 'data\\\\IE\\\\intent_lib.json'"
     ]
    }
   ],
   "source": [
    "intent_generator=intent_data_generator()"
   ]
  },
  {
   "cell_type": "markdown",
   "id": "717deebf",
   "metadata": {},
   "source": [
    "### Generate data for intent recognition"
   ]
  },
  {
   "cell_type": "code",
   "execution_count": 10,
   "id": "fff5cb55",
   "metadata": {},
   "outputs": [
    {
     "data": {
      "application/vnd.jupyter.widget-view+json": {
       "model_id": "f303618b36ba4469bdbc56ddaae1d947",
       "version_major": 2,
       "version_minor": 0
      },
      "text/plain": [
       "Generating data:   0%|          | 0/5 [00:00<?, ?it/s]"
      ]
     },
     "metadata": {},
     "output_type": "display_data"
    },
    {
     "data": {
      "application/vnd.jupyter.widget-view+json": {
       "model_id": "1bdd3164e05a4e25ab7cf6211f942dcc",
       "version_major": 2,
       "version_minor": 0
      },
      "text/plain": [
       "Generating data for business:   0%|          | 0/39 [00:00<?, ?it/s]"
      ]
     },
     "metadata": {},
     "output_type": "display_data"
    },
    {
     "ename": "KeyboardInterrupt",
     "evalue": "",
     "output_type": "error",
     "traceback": [
      "\u001b[1;31m---------------------------------------------------------------------------\u001b[0m",
      "\u001b[1;31mKeyboardInterrupt\u001b[0m                         Traceback (most recent call last)",
      "Cell \u001b[1;32mIn[10], line 2\u001b[0m\n\u001b[0;32m      1\u001b[0m \u001b[38;5;28;01mfor\u001b[39;00m c \u001b[38;5;129;01min\u001b[39;00m tqdm(intent_generator\u001b[38;5;241m.\u001b[39mcategories,desc\u001b[38;5;241m=\u001b[39m\u001b[38;5;124m\"\u001b[39m\u001b[38;5;124mGenerating data\u001b[39m\u001b[38;5;124m\"\u001b[39m):\n\u001b[1;32m----> 2\u001b[0m     \u001b[43mintent_generator\u001b[49m\u001b[38;5;241;43m.\u001b[39;49m\u001b[43mget_intent_response\u001b[49m\u001b[43m(\u001b[49m\u001b[43mc\u001b[49m\u001b[43m,\u001b[49m\u001b[38;5;241;43m4\u001b[39;49m\u001b[43m)\u001b[49m\n\u001b[0;32m      3\u001b[0m \u001b[38;5;28;01mwith\u001b[39;00m \u001b[38;5;28mopen\u001b[39m(\u001b[38;5;124m\"\u001b[39m\u001b[38;5;124mdata/intent_generator_new.pkl\u001b[39m\u001b[38;5;124m\"\u001b[39m, \u001b[38;5;124m\"\u001b[39m\u001b[38;5;124mwb\u001b[39m\u001b[38;5;124m\"\u001b[39m) \u001b[38;5;28;01mas\u001b[39;00m f:\n\u001b[0;32m      4\u001b[0m     pickle\u001b[38;5;241m.\u001b[39mdump(intent_generator, f)\n",
      "Cell \u001b[1;32mIn[8], line 36\u001b[0m, in \u001b[0;36mintent_data_generator.get_intent_response\u001b[1;34m(self, category, num_query)\u001b[0m\n\u001b[0;32m     27\u001b[0m \u001b[38;5;28;01mfor\u001b[39;00m msg \u001b[38;5;129;01min\u001b[39;00m tqdm(message_set[\u001b[38;5;241m1\u001b[39m:],desc\u001b[38;5;241m=\u001b[39m\u001b[38;5;124mf\u001b[39m\u001b[38;5;124m\"\u001b[39m\u001b[38;5;124mGenerating data for \u001b[39m\u001b[38;5;132;01m{\u001b[39;00mcategory\u001b[38;5;132;01m}\u001b[39;00m\u001b[38;5;124m\"\u001b[39m):\n\u001b[0;32m     28\u001b[0m   \u001b[38;5;28;01mtry\u001b[39;00m:\n\u001b[0;32m     29\u001b[0m       \u001b[38;5;66;03m# response=client.chat.completions.create(\u001b[39;00m\n\u001b[0;32m     30\u001b[0m       \u001b[38;5;66;03m#     model=\"deepseek-chat\",\u001b[39;00m\n\u001b[1;32m   (...)\u001b[0m\n\u001b[0;32m     34\u001b[0m       \u001b[38;5;66;03m#     stream=False\u001b[39;00m\n\u001b[0;32m     35\u001b[0m       \u001b[38;5;66;03m# ).choices[0].message.content\u001b[39;00m\n\u001b[1;32m---> 36\u001b[0m       response\u001b[38;5;241m=\u001b[39m\u001b[43mollama\u001b[49m\u001b[38;5;241;43m.\u001b[39;49m\u001b[43mchat\u001b[49m\u001b[43m(\u001b[49m\u001b[43mmodel\u001b[49m\u001b[38;5;241;43m=\u001b[39;49m\u001b[43mmodel\u001b[49m\u001b[43m,\u001b[49m\u001b[43m \u001b[49m\u001b[43mmessages\u001b[49m\u001b[38;5;241;43m=\u001b[39;49m\u001b[43m[\u001b[49m\n\u001b[0;32m     37\u001b[0m \u001b[43m            \u001b[49m\u001b[43mmessage_set\u001b[49m\u001b[43m[\u001b[49m\u001b[38;5;241;43m0\u001b[39;49m\u001b[43m]\u001b[49m\u001b[43m,\u001b[49m\u001b[43mmsg\u001b[49m\n\u001b[0;32m     38\u001b[0m \u001b[43m          \u001b[49m\u001b[43m]\u001b[49m\u001b[43m)\u001b[49m[\u001b[38;5;124m\"\u001b[39m\u001b[38;5;124mmessage\u001b[39m\u001b[38;5;124m\"\u001b[39m][\u001b[38;5;124m\"\u001b[39m\u001b[38;5;124mcontent\u001b[39m\u001b[38;5;124m\"\u001b[39m]\n\u001b[0;32m     40\u001b[0m       response\u001b[38;5;241m=\u001b[39mre\u001b[38;5;241m.\u001b[39msub(\n\u001b[0;32m     41\u001b[0m         pattern\u001b[38;5;241m=\u001b[39m\u001b[38;5;124mr\u001b[39m\u001b[38;5;124m\"\u001b[39m\u001b[38;5;124m```json\u001b[39m\u001b[38;5;124m\\\u001b[39m\u001b[38;5;124mn|\u001b[39m\u001b[38;5;124m\\\u001b[39m\u001b[38;5;124mn```\u001b[39m\u001b[38;5;124m\"\u001b[39m,\n\u001b[0;32m     42\u001b[0m         repl\u001b[38;5;241m=\u001b[39m\u001b[38;5;124m'\u001b[39m\u001b[38;5;124m'\u001b[39m,\n\u001b[0;32m     43\u001b[0m         string\u001b[38;5;241m=\u001b[39mresponse\n\u001b[0;32m     44\u001b[0m       )\n\u001b[0;32m     45\u001b[0m       \u001b[38;5;28;01mtry\u001b[39;00m:\n",
      "File \u001b[1;32mc:\\Users\\DominicMin\\AppData\\Local\\Programs\\Python\\Python312\\Lib\\site-packages\\ollama\\_client.py:333\u001b[0m, in \u001b[0;36mClient.chat\u001b[1;34m(self, model, messages, tools, stream, format, options, keep_alive)\u001b[0m\n\u001b[0;32m    289\u001b[0m \u001b[38;5;28;01mdef\u001b[39;00m \u001b[38;5;21mchat\u001b[39m(\n\u001b[0;32m    290\u001b[0m   \u001b[38;5;28mself\u001b[39m,\n\u001b[0;32m    291\u001b[0m   model: \u001b[38;5;28mstr\u001b[39m \u001b[38;5;241m=\u001b[39m \u001b[38;5;124m'\u001b[39m\u001b[38;5;124m'\u001b[39m,\n\u001b[1;32m   (...)\u001b[0m\n\u001b[0;32m    298\u001b[0m   keep_alive: Optional[Union[\u001b[38;5;28mfloat\u001b[39m, \u001b[38;5;28mstr\u001b[39m]] \u001b[38;5;241m=\u001b[39m \u001b[38;5;28;01mNone\u001b[39;00m,\n\u001b[0;32m    299\u001b[0m ) \u001b[38;5;241m-\u001b[39m\u001b[38;5;241m>\u001b[39m Union[ChatResponse, Iterator[ChatResponse]]:\n\u001b[0;32m    300\u001b[0m \u001b[38;5;250m  \u001b[39m\u001b[38;5;124;03m\"\"\"\u001b[39;00m\n\u001b[0;32m    301\u001b[0m \u001b[38;5;124;03m  Create a chat response using the requested model.\u001b[39;00m\n\u001b[0;32m    302\u001b[0m \n\u001b[1;32m   (...)\u001b[0m\n\u001b[0;32m    331\u001b[0m \u001b[38;5;124;03m  Returns `ChatResponse` if `stream` is `False`, otherwise returns a `ChatResponse` generator.\u001b[39;00m\n\u001b[0;32m    332\u001b[0m \u001b[38;5;124;03m  \"\"\"\u001b[39;00m\n\u001b[1;32m--> 333\u001b[0m   \u001b[38;5;28;01mreturn\u001b[39;00m \u001b[38;5;28;43mself\u001b[39;49m\u001b[38;5;241;43m.\u001b[39;49m\u001b[43m_request\u001b[49m\u001b[43m(\u001b[49m\n\u001b[0;32m    334\u001b[0m \u001b[43m    \u001b[49m\u001b[43mChatResponse\u001b[49m\u001b[43m,\u001b[49m\n\u001b[0;32m    335\u001b[0m \u001b[43m    \u001b[49m\u001b[38;5;124;43m'\u001b[39;49m\u001b[38;5;124;43mPOST\u001b[39;49m\u001b[38;5;124;43m'\u001b[39;49m\u001b[43m,\u001b[49m\n\u001b[0;32m    336\u001b[0m \u001b[43m    \u001b[49m\u001b[38;5;124;43m'\u001b[39;49m\u001b[38;5;124;43m/api/chat\u001b[39;49m\u001b[38;5;124;43m'\u001b[39;49m\u001b[43m,\u001b[49m\n\u001b[0;32m    337\u001b[0m \u001b[43m    \u001b[49m\u001b[43mjson\u001b[49m\u001b[38;5;241;43m=\u001b[39;49m\u001b[43mChatRequest\u001b[49m\u001b[43m(\u001b[49m\n\u001b[0;32m    338\u001b[0m \u001b[43m      \u001b[49m\u001b[43mmodel\u001b[49m\u001b[38;5;241;43m=\u001b[39;49m\u001b[43mmodel\u001b[49m\u001b[43m,\u001b[49m\n\u001b[0;32m    339\u001b[0m \u001b[43m      \u001b[49m\u001b[43mmessages\u001b[49m\u001b[38;5;241;43m=\u001b[39;49m\u001b[43m[\u001b[49m\u001b[43mmessage\u001b[49m\u001b[43m \u001b[49m\u001b[38;5;28;43;01mfor\u001b[39;49;00m\u001b[43m \u001b[49m\u001b[43mmessage\u001b[49m\u001b[43m \u001b[49m\u001b[38;5;129;43;01min\u001b[39;49;00m\u001b[43m \u001b[49m\u001b[43m_copy_messages\u001b[49m\u001b[43m(\u001b[49m\u001b[43mmessages\u001b[49m\u001b[43m)\u001b[49m\u001b[43m]\u001b[49m\u001b[43m,\u001b[49m\n\u001b[0;32m    340\u001b[0m \u001b[43m      \u001b[49m\u001b[43mtools\u001b[49m\u001b[38;5;241;43m=\u001b[39;49m\u001b[43m[\u001b[49m\u001b[43mtool\u001b[49m\u001b[43m \u001b[49m\u001b[38;5;28;43;01mfor\u001b[39;49;00m\u001b[43m \u001b[49m\u001b[43mtool\u001b[49m\u001b[43m \u001b[49m\u001b[38;5;129;43;01min\u001b[39;49;00m\u001b[43m \u001b[49m\u001b[43m_copy_tools\u001b[49m\u001b[43m(\u001b[49m\u001b[43mtools\u001b[49m\u001b[43m)\u001b[49m\u001b[43m]\u001b[49m\u001b[43m,\u001b[49m\n\u001b[0;32m    341\u001b[0m \u001b[43m      \u001b[49m\u001b[43mstream\u001b[49m\u001b[38;5;241;43m=\u001b[39;49m\u001b[43mstream\u001b[49m\u001b[43m,\u001b[49m\n\u001b[0;32m    342\u001b[0m \u001b[43m      \u001b[49m\u001b[38;5;28;43mformat\u001b[39;49m\u001b[38;5;241;43m=\u001b[39;49m\u001b[38;5;28;43mformat\u001b[39;49m\u001b[43m,\u001b[49m\n\u001b[0;32m    343\u001b[0m \u001b[43m      \u001b[49m\u001b[43moptions\u001b[49m\u001b[38;5;241;43m=\u001b[39;49m\u001b[43moptions\u001b[49m\u001b[43m,\u001b[49m\n\u001b[0;32m    344\u001b[0m \u001b[43m      \u001b[49m\u001b[43mkeep_alive\u001b[49m\u001b[38;5;241;43m=\u001b[39;49m\u001b[43mkeep_alive\u001b[49m\u001b[43m,\u001b[49m\n\u001b[0;32m    345\u001b[0m \u001b[43m    \u001b[49m\u001b[43m)\u001b[49m\u001b[38;5;241;43m.\u001b[39;49m\u001b[43mmodel_dump\u001b[49m\u001b[43m(\u001b[49m\u001b[43mexclude_none\u001b[49m\u001b[38;5;241;43m=\u001b[39;49m\u001b[38;5;28;43;01mTrue\u001b[39;49;00m\u001b[43m)\u001b[49m\u001b[43m,\u001b[49m\n\u001b[0;32m    346\u001b[0m \u001b[43m    \u001b[49m\u001b[43mstream\u001b[49m\u001b[38;5;241;43m=\u001b[39;49m\u001b[43mstream\u001b[49m\u001b[43m,\u001b[49m\n\u001b[0;32m    347\u001b[0m \u001b[43m  \u001b[49m\u001b[43m)\u001b[49m\n",
      "File \u001b[1;32mc:\\Users\\DominicMin\\AppData\\Local\\Programs\\Python\\Python312\\Lib\\site-packages\\ollama\\_client.py:178\u001b[0m, in \u001b[0;36mClient._request\u001b[1;34m(self, cls, stream, *args, **kwargs)\u001b[0m\n\u001b[0;32m    174\u001b[0m         \u001b[38;5;28;01myield\u001b[39;00m \u001b[38;5;28mcls\u001b[39m(\u001b[38;5;241m*\u001b[39m\u001b[38;5;241m*\u001b[39mpart)\n\u001b[0;32m    176\u001b[0m   \u001b[38;5;28;01mreturn\u001b[39;00m inner()\n\u001b[1;32m--> 178\u001b[0m \u001b[38;5;28;01mreturn\u001b[39;00m \u001b[38;5;28mcls\u001b[39m(\u001b[38;5;241m*\u001b[39m\u001b[38;5;241m*\u001b[39m\u001b[38;5;28;43mself\u001b[39;49m\u001b[38;5;241;43m.\u001b[39;49m\u001b[43m_request_raw\u001b[49m\u001b[43m(\u001b[49m\u001b[38;5;241;43m*\u001b[39;49m\u001b[43margs\u001b[49m\u001b[43m,\u001b[49m\u001b[43m \u001b[49m\u001b[38;5;241;43m*\u001b[39;49m\u001b[38;5;241;43m*\u001b[39;49m\u001b[43mkwargs\u001b[49m\u001b[43m)\u001b[49m\u001b[38;5;241m.\u001b[39mjson())\n",
      "File \u001b[1;32mc:\\Users\\DominicMin\\AppData\\Local\\Programs\\Python\\Python312\\Lib\\site-packages\\ollama\\_client.py:118\u001b[0m, in \u001b[0;36mClient._request_raw\u001b[1;34m(self, *args, **kwargs)\u001b[0m\n\u001b[0;32m    116\u001b[0m \u001b[38;5;28;01mdef\u001b[39;00m \u001b[38;5;21m_request_raw\u001b[39m(\u001b[38;5;28mself\u001b[39m, \u001b[38;5;241m*\u001b[39margs, \u001b[38;5;241m*\u001b[39m\u001b[38;5;241m*\u001b[39mkwargs):\n\u001b[0;32m    117\u001b[0m   \u001b[38;5;28;01mtry\u001b[39;00m:\n\u001b[1;32m--> 118\u001b[0m     r \u001b[38;5;241m=\u001b[39m \u001b[38;5;28;43mself\u001b[39;49m\u001b[38;5;241;43m.\u001b[39;49m\u001b[43m_client\u001b[49m\u001b[38;5;241;43m.\u001b[39;49m\u001b[43mrequest\u001b[49m\u001b[43m(\u001b[49m\u001b[38;5;241;43m*\u001b[39;49m\u001b[43margs\u001b[49m\u001b[43m,\u001b[49m\u001b[43m \u001b[49m\u001b[38;5;241;43m*\u001b[39;49m\u001b[38;5;241;43m*\u001b[39;49m\u001b[43mkwargs\u001b[49m\u001b[43m)\u001b[49m\n\u001b[0;32m    119\u001b[0m     r\u001b[38;5;241m.\u001b[39mraise_for_status()\n\u001b[0;32m    120\u001b[0m     \u001b[38;5;28;01mreturn\u001b[39;00m r\n",
      "File \u001b[1;32mc:\\Users\\DominicMin\\AppData\\Local\\Programs\\Python\\Python312\\Lib\\site-packages\\httpx\\_client.py:837\u001b[0m, in \u001b[0;36mClient.request\u001b[1;34m(self, method, url, content, data, files, json, params, headers, cookies, auth, follow_redirects, timeout, extensions)\u001b[0m\n\u001b[0;32m    822\u001b[0m     warnings\u001b[38;5;241m.\u001b[39mwarn(message, \u001b[38;5;167;01mDeprecationWarning\u001b[39;00m)\n\u001b[0;32m    824\u001b[0m request \u001b[38;5;241m=\u001b[39m \u001b[38;5;28mself\u001b[39m\u001b[38;5;241m.\u001b[39mbuild_request(\n\u001b[0;32m    825\u001b[0m     method\u001b[38;5;241m=\u001b[39mmethod,\n\u001b[0;32m    826\u001b[0m     url\u001b[38;5;241m=\u001b[39murl,\n\u001b[1;32m   (...)\u001b[0m\n\u001b[0;32m    835\u001b[0m     extensions\u001b[38;5;241m=\u001b[39mextensions,\n\u001b[0;32m    836\u001b[0m )\n\u001b[1;32m--> 837\u001b[0m \u001b[38;5;28;01mreturn\u001b[39;00m \u001b[38;5;28;43mself\u001b[39;49m\u001b[38;5;241;43m.\u001b[39;49m\u001b[43msend\u001b[49m\u001b[43m(\u001b[49m\u001b[43mrequest\u001b[49m\u001b[43m,\u001b[49m\u001b[43m \u001b[49m\u001b[43mauth\u001b[49m\u001b[38;5;241;43m=\u001b[39;49m\u001b[43mauth\u001b[49m\u001b[43m,\u001b[49m\u001b[43m \u001b[49m\u001b[43mfollow_redirects\u001b[49m\u001b[38;5;241;43m=\u001b[39;49m\u001b[43mfollow_redirects\u001b[49m\u001b[43m)\u001b[49m\n",
      "File \u001b[1;32mc:\\Users\\DominicMin\\AppData\\Local\\Programs\\Python\\Python312\\Lib\\site-packages\\httpx\\_client.py:926\u001b[0m, in \u001b[0;36mClient.send\u001b[1;34m(self, request, stream, auth, follow_redirects)\u001b[0m\n\u001b[0;32m    922\u001b[0m \u001b[38;5;28mself\u001b[39m\u001b[38;5;241m.\u001b[39m_set_timeout(request)\n\u001b[0;32m    924\u001b[0m auth \u001b[38;5;241m=\u001b[39m \u001b[38;5;28mself\u001b[39m\u001b[38;5;241m.\u001b[39m_build_request_auth(request, auth)\n\u001b[1;32m--> 926\u001b[0m response \u001b[38;5;241m=\u001b[39m \u001b[38;5;28;43mself\u001b[39;49m\u001b[38;5;241;43m.\u001b[39;49m\u001b[43m_send_handling_auth\u001b[49m\u001b[43m(\u001b[49m\n\u001b[0;32m    927\u001b[0m \u001b[43m    \u001b[49m\u001b[43mrequest\u001b[49m\u001b[43m,\u001b[49m\n\u001b[0;32m    928\u001b[0m \u001b[43m    \u001b[49m\u001b[43mauth\u001b[49m\u001b[38;5;241;43m=\u001b[39;49m\u001b[43mauth\u001b[49m\u001b[43m,\u001b[49m\n\u001b[0;32m    929\u001b[0m \u001b[43m    \u001b[49m\u001b[43mfollow_redirects\u001b[49m\u001b[38;5;241;43m=\u001b[39;49m\u001b[43mfollow_redirects\u001b[49m\u001b[43m,\u001b[49m\n\u001b[0;32m    930\u001b[0m \u001b[43m    \u001b[49m\u001b[43mhistory\u001b[49m\u001b[38;5;241;43m=\u001b[39;49m\u001b[43m[\u001b[49m\u001b[43m]\u001b[49m\u001b[43m,\u001b[49m\n\u001b[0;32m    931\u001b[0m \u001b[43m\u001b[49m\u001b[43m)\u001b[49m\n\u001b[0;32m    932\u001b[0m \u001b[38;5;28;01mtry\u001b[39;00m:\n\u001b[0;32m    933\u001b[0m     \u001b[38;5;28;01mif\u001b[39;00m \u001b[38;5;129;01mnot\u001b[39;00m stream:\n",
      "File \u001b[1;32mc:\\Users\\DominicMin\\AppData\\Local\\Programs\\Python\\Python312\\Lib\\site-packages\\httpx\\_client.py:954\u001b[0m, in \u001b[0;36mClient._send_handling_auth\u001b[1;34m(self, request, auth, follow_redirects, history)\u001b[0m\n\u001b[0;32m    951\u001b[0m request \u001b[38;5;241m=\u001b[39m \u001b[38;5;28mnext\u001b[39m(auth_flow)\n\u001b[0;32m    953\u001b[0m \u001b[38;5;28;01mwhile\u001b[39;00m \u001b[38;5;28;01mTrue\u001b[39;00m:\n\u001b[1;32m--> 954\u001b[0m     response \u001b[38;5;241m=\u001b[39m \u001b[38;5;28;43mself\u001b[39;49m\u001b[38;5;241;43m.\u001b[39;49m\u001b[43m_send_handling_redirects\u001b[49m\u001b[43m(\u001b[49m\n\u001b[0;32m    955\u001b[0m \u001b[43m        \u001b[49m\u001b[43mrequest\u001b[49m\u001b[43m,\u001b[49m\n\u001b[0;32m    956\u001b[0m \u001b[43m        \u001b[49m\u001b[43mfollow_redirects\u001b[49m\u001b[38;5;241;43m=\u001b[39;49m\u001b[43mfollow_redirects\u001b[49m\u001b[43m,\u001b[49m\n\u001b[0;32m    957\u001b[0m \u001b[43m        \u001b[49m\u001b[43mhistory\u001b[49m\u001b[38;5;241;43m=\u001b[39;49m\u001b[43mhistory\u001b[49m\u001b[43m,\u001b[49m\n\u001b[0;32m    958\u001b[0m \u001b[43m    \u001b[49m\u001b[43m)\u001b[49m\n\u001b[0;32m    959\u001b[0m     \u001b[38;5;28;01mtry\u001b[39;00m:\n\u001b[0;32m    960\u001b[0m         \u001b[38;5;28;01mtry\u001b[39;00m:\n",
      "File \u001b[1;32mc:\\Users\\DominicMin\\AppData\\Local\\Programs\\Python\\Python312\\Lib\\site-packages\\httpx\\_client.py:991\u001b[0m, in \u001b[0;36mClient._send_handling_redirects\u001b[1;34m(self, request, follow_redirects, history)\u001b[0m\n\u001b[0;32m    988\u001b[0m \u001b[38;5;28;01mfor\u001b[39;00m hook \u001b[38;5;129;01min\u001b[39;00m \u001b[38;5;28mself\u001b[39m\u001b[38;5;241m.\u001b[39m_event_hooks[\u001b[38;5;124m\"\u001b[39m\u001b[38;5;124mrequest\u001b[39m\u001b[38;5;124m\"\u001b[39m]:\n\u001b[0;32m    989\u001b[0m     hook(request)\n\u001b[1;32m--> 991\u001b[0m response \u001b[38;5;241m=\u001b[39m \u001b[38;5;28;43mself\u001b[39;49m\u001b[38;5;241;43m.\u001b[39;49m\u001b[43m_send_single_request\u001b[49m\u001b[43m(\u001b[49m\u001b[43mrequest\u001b[49m\u001b[43m)\u001b[49m\n\u001b[0;32m    992\u001b[0m \u001b[38;5;28;01mtry\u001b[39;00m:\n\u001b[0;32m    993\u001b[0m     \u001b[38;5;28;01mfor\u001b[39;00m hook \u001b[38;5;129;01min\u001b[39;00m \u001b[38;5;28mself\u001b[39m\u001b[38;5;241m.\u001b[39m_event_hooks[\u001b[38;5;124m\"\u001b[39m\u001b[38;5;124mresponse\u001b[39m\u001b[38;5;124m\"\u001b[39m]:\n",
      "File \u001b[1;32mc:\\Users\\DominicMin\\AppData\\Local\\Programs\\Python\\Python312\\Lib\\site-packages\\httpx\\_client.py:1027\u001b[0m, in \u001b[0;36mClient._send_single_request\u001b[1;34m(self, request)\u001b[0m\n\u001b[0;32m   1022\u001b[0m     \u001b[38;5;28;01mraise\u001b[39;00m \u001b[38;5;167;01mRuntimeError\u001b[39;00m(\n\u001b[0;32m   1023\u001b[0m         \u001b[38;5;124m\"\u001b[39m\u001b[38;5;124mAttempted to send an async request with a sync Client instance.\u001b[39m\u001b[38;5;124m\"\u001b[39m\n\u001b[0;32m   1024\u001b[0m     )\n\u001b[0;32m   1026\u001b[0m \u001b[38;5;28;01mwith\u001b[39;00m request_context(request\u001b[38;5;241m=\u001b[39mrequest):\n\u001b[1;32m-> 1027\u001b[0m     response \u001b[38;5;241m=\u001b[39m \u001b[43mtransport\u001b[49m\u001b[38;5;241;43m.\u001b[39;49m\u001b[43mhandle_request\u001b[49m\u001b[43m(\u001b[49m\u001b[43mrequest\u001b[49m\u001b[43m)\u001b[49m\n\u001b[0;32m   1029\u001b[0m \u001b[38;5;28;01massert\u001b[39;00m \u001b[38;5;28misinstance\u001b[39m(response\u001b[38;5;241m.\u001b[39mstream, SyncByteStream)\n\u001b[0;32m   1031\u001b[0m response\u001b[38;5;241m.\u001b[39mrequest \u001b[38;5;241m=\u001b[39m request\n",
      "File \u001b[1;32mc:\\Users\\DominicMin\\AppData\\Local\\Programs\\Python\\Python312\\Lib\\site-packages\\httpx\\_transports\\default.py:236\u001b[0m, in \u001b[0;36mHTTPTransport.handle_request\u001b[1;34m(self, request)\u001b[0m\n\u001b[0;32m    223\u001b[0m req \u001b[38;5;241m=\u001b[39m httpcore\u001b[38;5;241m.\u001b[39mRequest(\n\u001b[0;32m    224\u001b[0m     method\u001b[38;5;241m=\u001b[39mrequest\u001b[38;5;241m.\u001b[39mmethod,\n\u001b[0;32m    225\u001b[0m     url\u001b[38;5;241m=\u001b[39mhttpcore\u001b[38;5;241m.\u001b[39mURL(\n\u001b[1;32m   (...)\u001b[0m\n\u001b[0;32m    233\u001b[0m     extensions\u001b[38;5;241m=\u001b[39mrequest\u001b[38;5;241m.\u001b[39mextensions,\n\u001b[0;32m    234\u001b[0m )\n\u001b[0;32m    235\u001b[0m \u001b[38;5;28;01mwith\u001b[39;00m map_httpcore_exceptions():\n\u001b[1;32m--> 236\u001b[0m     resp \u001b[38;5;241m=\u001b[39m \u001b[38;5;28;43mself\u001b[39;49m\u001b[38;5;241;43m.\u001b[39;49m\u001b[43m_pool\u001b[49m\u001b[38;5;241;43m.\u001b[39;49m\u001b[43mhandle_request\u001b[49m\u001b[43m(\u001b[49m\u001b[43mreq\u001b[49m\u001b[43m)\u001b[49m\n\u001b[0;32m    238\u001b[0m \u001b[38;5;28;01massert\u001b[39;00m \u001b[38;5;28misinstance\u001b[39m(resp\u001b[38;5;241m.\u001b[39mstream, typing\u001b[38;5;241m.\u001b[39mIterable)\n\u001b[0;32m    240\u001b[0m \u001b[38;5;28;01mreturn\u001b[39;00m Response(\n\u001b[0;32m    241\u001b[0m     status_code\u001b[38;5;241m=\u001b[39mresp\u001b[38;5;241m.\u001b[39mstatus,\n\u001b[0;32m    242\u001b[0m     headers\u001b[38;5;241m=\u001b[39mresp\u001b[38;5;241m.\u001b[39mheaders,\n\u001b[0;32m    243\u001b[0m     stream\u001b[38;5;241m=\u001b[39mResponseStream(resp\u001b[38;5;241m.\u001b[39mstream),\n\u001b[0;32m    244\u001b[0m     extensions\u001b[38;5;241m=\u001b[39mresp\u001b[38;5;241m.\u001b[39mextensions,\n\u001b[0;32m    245\u001b[0m )\n",
      "File \u001b[1;32mc:\\Users\\DominicMin\\AppData\\Local\\Programs\\Python\\Python312\\Lib\\site-packages\\httpcore\\_sync\\connection_pool.py:216\u001b[0m, in \u001b[0;36mConnectionPool.handle_request\u001b[1;34m(self, request)\u001b[0m\n\u001b[0;32m    213\u001b[0m         closing \u001b[38;5;241m=\u001b[39m \u001b[38;5;28mself\u001b[39m\u001b[38;5;241m.\u001b[39m_assign_requests_to_connections()\n\u001b[0;32m    215\u001b[0m     \u001b[38;5;28mself\u001b[39m\u001b[38;5;241m.\u001b[39m_close_connections(closing)\n\u001b[1;32m--> 216\u001b[0m     \u001b[38;5;28;01mraise\u001b[39;00m exc \u001b[38;5;28;01mfrom\u001b[39;00m \u001b[38;5;28;01mNone\u001b[39;00m\n\u001b[0;32m    218\u001b[0m \u001b[38;5;66;03m# Return the response. Note that in this case we still have to manage\u001b[39;00m\n\u001b[0;32m    219\u001b[0m \u001b[38;5;66;03m# the point at which the response is closed.\u001b[39;00m\n\u001b[0;32m    220\u001b[0m \u001b[38;5;28;01massert\u001b[39;00m \u001b[38;5;28misinstance\u001b[39m(response\u001b[38;5;241m.\u001b[39mstream, Iterable)\n",
      "File \u001b[1;32mc:\\Users\\DominicMin\\AppData\\Local\\Programs\\Python\\Python312\\Lib\\site-packages\\httpcore\\_sync\\connection_pool.py:196\u001b[0m, in \u001b[0;36mConnectionPool.handle_request\u001b[1;34m(self, request)\u001b[0m\n\u001b[0;32m    192\u001b[0m connection \u001b[38;5;241m=\u001b[39m pool_request\u001b[38;5;241m.\u001b[39mwait_for_connection(timeout\u001b[38;5;241m=\u001b[39mtimeout)\n\u001b[0;32m    194\u001b[0m \u001b[38;5;28;01mtry\u001b[39;00m:\n\u001b[0;32m    195\u001b[0m     \u001b[38;5;66;03m# Send the request on the assigned connection.\u001b[39;00m\n\u001b[1;32m--> 196\u001b[0m     response \u001b[38;5;241m=\u001b[39m \u001b[43mconnection\u001b[49m\u001b[38;5;241;43m.\u001b[39;49m\u001b[43mhandle_request\u001b[49m\u001b[43m(\u001b[49m\n\u001b[0;32m    197\u001b[0m \u001b[43m        \u001b[49m\u001b[43mpool_request\u001b[49m\u001b[38;5;241;43m.\u001b[39;49m\u001b[43mrequest\u001b[49m\n\u001b[0;32m    198\u001b[0m \u001b[43m    \u001b[49m\u001b[43m)\u001b[49m\n\u001b[0;32m    199\u001b[0m \u001b[38;5;28;01mexcept\u001b[39;00m ConnectionNotAvailable:\n\u001b[0;32m    200\u001b[0m     \u001b[38;5;66;03m# In some cases a connection may initially be available to\u001b[39;00m\n\u001b[0;32m    201\u001b[0m     \u001b[38;5;66;03m# handle a request, but then become unavailable.\u001b[39;00m\n\u001b[0;32m    202\u001b[0m     \u001b[38;5;66;03m#\u001b[39;00m\n\u001b[0;32m    203\u001b[0m     \u001b[38;5;66;03m# In this case we clear the connection and try again.\u001b[39;00m\n\u001b[0;32m    204\u001b[0m     pool_request\u001b[38;5;241m.\u001b[39mclear_connection()\n",
      "File \u001b[1;32mc:\\Users\\DominicMin\\AppData\\Local\\Programs\\Python\\Python312\\Lib\\site-packages\\httpcore\\_sync\\connection.py:101\u001b[0m, in \u001b[0;36mHTTPConnection.handle_request\u001b[1;34m(self, request)\u001b[0m\n\u001b[0;32m     98\u001b[0m     \u001b[38;5;28mself\u001b[39m\u001b[38;5;241m.\u001b[39m_connect_failed \u001b[38;5;241m=\u001b[39m \u001b[38;5;28;01mTrue\u001b[39;00m\n\u001b[0;32m     99\u001b[0m     \u001b[38;5;28;01mraise\u001b[39;00m exc\n\u001b[1;32m--> 101\u001b[0m \u001b[38;5;28;01mreturn\u001b[39;00m \u001b[38;5;28;43mself\u001b[39;49m\u001b[38;5;241;43m.\u001b[39;49m\u001b[43m_connection\u001b[49m\u001b[38;5;241;43m.\u001b[39;49m\u001b[43mhandle_request\u001b[49m\u001b[43m(\u001b[49m\u001b[43mrequest\u001b[49m\u001b[43m)\u001b[49m\n",
      "File \u001b[1;32mc:\\Users\\DominicMin\\AppData\\Local\\Programs\\Python\\Python312\\Lib\\site-packages\\httpcore\\_sync\\http11.py:143\u001b[0m, in \u001b[0;36mHTTP11Connection.handle_request\u001b[1;34m(self, request)\u001b[0m\n\u001b[0;32m    141\u001b[0m     \u001b[38;5;28;01mwith\u001b[39;00m Trace(\u001b[38;5;124m\"\u001b[39m\u001b[38;5;124mresponse_closed\u001b[39m\u001b[38;5;124m\"\u001b[39m, logger, request) \u001b[38;5;28;01mas\u001b[39;00m trace:\n\u001b[0;32m    142\u001b[0m         \u001b[38;5;28mself\u001b[39m\u001b[38;5;241m.\u001b[39m_response_closed()\n\u001b[1;32m--> 143\u001b[0m \u001b[38;5;28;01mraise\u001b[39;00m exc\n",
      "File \u001b[1;32mc:\\Users\\DominicMin\\AppData\\Local\\Programs\\Python\\Python312\\Lib\\site-packages\\httpcore\\_sync\\http11.py:113\u001b[0m, in \u001b[0;36mHTTP11Connection.handle_request\u001b[1;34m(self, request)\u001b[0m\n\u001b[0;32m    102\u001b[0m     \u001b[38;5;28;01mpass\u001b[39;00m\n\u001b[0;32m    104\u001b[0m \u001b[38;5;28;01mwith\u001b[39;00m Trace(\n\u001b[0;32m    105\u001b[0m     \u001b[38;5;124m\"\u001b[39m\u001b[38;5;124mreceive_response_headers\u001b[39m\u001b[38;5;124m\"\u001b[39m, logger, request, kwargs\n\u001b[0;32m    106\u001b[0m ) \u001b[38;5;28;01mas\u001b[39;00m trace:\n\u001b[0;32m    107\u001b[0m     (\n\u001b[0;32m    108\u001b[0m         http_version,\n\u001b[0;32m    109\u001b[0m         status,\n\u001b[0;32m    110\u001b[0m         reason_phrase,\n\u001b[0;32m    111\u001b[0m         headers,\n\u001b[0;32m    112\u001b[0m         trailing_data,\n\u001b[1;32m--> 113\u001b[0m     ) \u001b[38;5;241m=\u001b[39m \u001b[38;5;28;43mself\u001b[39;49m\u001b[38;5;241;43m.\u001b[39;49m\u001b[43m_receive_response_headers\u001b[49m\u001b[43m(\u001b[49m\u001b[38;5;241;43m*\u001b[39;49m\u001b[38;5;241;43m*\u001b[39;49m\u001b[43mkwargs\u001b[49m\u001b[43m)\u001b[49m\n\u001b[0;32m    114\u001b[0m     trace\u001b[38;5;241m.\u001b[39mreturn_value \u001b[38;5;241m=\u001b[39m (\n\u001b[0;32m    115\u001b[0m         http_version,\n\u001b[0;32m    116\u001b[0m         status,\n\u001b[0;32m    117\u001b[0m         reason_phrase,\n\u001b[0;32m    118\u001b[0m         headers,\n\u001b[0;32m    119\u001b[0m     )\n\u001b[0;32m    121\u001b[0m network_stream \u001b[38;5;241m=\u001b[39m \u001b[38;5;28mself\u001b[39m\u001b[38;5;241m.\u001b[39m_network_stream\n",
      "File \u001b[1;32mc:\\Users\\DominicMin\\AppData\\Local\\Programs\\Python\\Python312\\Lib\\site-packages\\httpcore\\_sync\\http11.py:186\u001b[0m, in \u001b[0;36mHTTP11Connection._receive_response_headers\u001b[1;34m(self, request)\u001b[0m\n\u001b[0;32m    183\u001b[0m timeout \u001b[38;5;241m=\u001b[39m timeouts\u001b[38;5;241m.\u001b[39mget(\u001b[38;5;124m\"\u001b[39m\u001b[38;5;124mread\u001b[39m\u001b[38;5;124m\"\u001b[39m, \u001b[38;5;28;01mNone\u001b[39;00m)\n\u001b[0;32m    185\u001b[0m \u001b[38;5;28;01mwhile\u001b[39;00m \u001b[38;5;28;01mTrue\u001b[39;00m:\n\u001b[1;32m--> 186\u001b[0m     event \u001b[38;5;241m=\u001b[39m \u001b[38;5;28;43mself\u001b[39;49m\u001b[38;5;241;43m.\u001b[39;49m\u001b[43m_receive_event\u001b[49m\u001b[43m(\u001b[49m\u001b[43mtimeout\u001b[49m\u001b[38;5;241;43m=\u001b[39;49m\u001b[43mtimeout\u001b[49m\u001b[43m)\u001b[49m\n\u001b[0;32m    187\u001b[0m     \u001b[38;5;28;01mif\u001b[39;00m \u001b[38;5;28misinstance\u001b[39m(event, h11\u001b[38;5;241m.\u001b[39mResponse):\n\u001b[0;32m    188\u001b[0m         \u001b[38;5;28;01mbreak\u001b[39;00m\n",
      "File \u001b[1;32mc:\\Users\\DominicMin\\AppData\\Local\\Programs\\Python\\Python312\\Lib\\site-packages\\httpcore\\_sync\\http11.py:224\u001b[0m, in \u001b[0;36mHTTP11Connection._receive_event\u001b[1;34m(self, timeout)\u001b[0m\n\u001b[0;32m    221\u001b[0m     event \u001b[38;5;241m=\u001b[39m \u001b[38;5;28mself\u001b[39m\u001b[38;5;241m.\u001b[39m_h11_state\u001b[38;5;241m.\u001b[39mnext_event()\n\u001b[0;32m    223\u001b[0m \u001b[38;5;28;01mif\u001b[39;00m event \u001b[38;5;129;01mis\u001b[39;00m h11\u001b[38;5;241m.\u001b[39mNEED_DATA:\n\u001b[1;32m--> 224\u001b[0m     data \u001b[38;5;241m=\u001b[39m \u001b[38;5;28;43mself\u001b[39;49m\u001b[38;5;241;43m.\u001b[39;49m\u001b[43m_network_stream\u001b[49m\u001b[38;5;241;43m.\u001b[39;49m\u001b[43mread\u001b[49m\u001b[43m(\u001b[49m\n\u001b[0;32m    225\u001b[0m \u001b[43m        \u001b[49m\u001b[38;5;28;43mself\u001b[39;49m\u001b[38;5;241;43m.\u001b[39;49m\u001b[43mREAD_NUM_BYTES\u001b[49m\u001b[43m,\u001b[49m\u001b[43m \u001b[49m\u001b[43mtimeout\u001b[49m\u001b[38;5;241;43m=\u001b[39;49m\u001b[43mtimeout\u001b[49m\n\u001b[0;32m    226\u001b[0m \u001b[43m    \u001b[49m\u001b[43m)\u001b[49m\n\u001b[0;32m    228\u001b[0m     \u001b[38;5;66;03m# If we feed this case through h11 we'll raise an exception like:\u001b[39;00m\n\u001b[0;32m    229\u001b[0m     \u001b[38;5;66;03m#\u001b[39;00m\n\u001b[0;32m    230\u001b[0m     \u001b[38;5;66;03m#     httpcore.RemoteProtocolError: can't handle event type\u001b[39;00m\n\u001b[1;32m   (...)\u001b[0m\n\u001b[0;32m    234\u001b[0m     \u001b[38;5;66;03m# perspective. Instead we handle this case distinctly and treat\u001b[39;00m\n\u001b[0;32m    235\u001b[0m     \u001b[38;5;66;03m# it as a ConnectError.\u001b[39;00m\n\u001b[0;32m    236\u001b[0m     \u001b[38;5;28;01mif\u001b[39;00m data \u001b[38;5;241m==\u001b[39m \u001b[38;5;124mb\u001b[39m\u001b[38;5;124m\"\u001b[39m\u001b[38;5;124m\"\u001b[39m \u001b[38;5;129;01mand\u001b[39;00m \u001b[38;5;28mself\u001b[39m\u001b[38;5;241m.\u001b[39m_h11_state\u001b[38;5;241m.\u001b[39mtheir_state \u001b[38;5;241m==\u001b[39m h11\u001b[38;5;241m.\u001b[39mSEND_RESPONSE:\n",
      "File \u001b[1;32mc:\\Users\\DominicMin\\AppData\\Local\\Programs\\Python\\Python312\\Lib\\site-packages\\httpcore\\_backends\\sync.py:126\u001b[0m, in \u001b[0;36mSyncStream.read\u001b[1;34m(self, max_bytes, timeout)\u001b[0m\n\u001b[0;32m    124\u001b[0m \u001b[38;5;28;01mwith\u001b[39;00m map_exceptions(exc_map):\n\u001b[0;32m    125\u001b[0m     \u001b[38;5;28mself\u001b[39m\u001b[38;5;241m.\u001b[39m_sock\u001b[38;5;241m.\u001b[39msettimeout(timeout)\n\u001b[1;32m--> 126\u001b[0m     \u001b[38;5;28;01mreturn\u001b[39;00m \u001b[38;5;28;43mself\u001b[39;49m\u001b[38;5;241;43m.\u001b[39;49m\u001b[43m_sock\u001b[49m\u001b[38;5;241;43m.\u001b[39;49m\u001b[43mrecv\u001b[49m\u001b[43m(\u001b[49m\u001b[43mmax_bytes\u001b[49m\u001b[43m)\u001b[49m\n",
      "\u001b[1;31mKeyboardInterrupt\u001b[0m: "
     ]
    }
   ],
   "source": [
    "for c in tqdm(intent_generator.categories,desc=\"Generating data\"):\n",
    "    intent_generator.get_intent_response(c,4)\n",
    "with open(\"data/intent_generator_new.pkl\", \"wb\") as f:\n",
    "    pickle.dump(intent_generator, f)"
   ]
  },
  {
   "cell_type": "code",
   "execution_count": 18,
   "id": "6dfafdfa",
   "metadata": {},
   "outputs": [
    {
     "name": "stdout",
     "output_type": "stream",
     "text": [
      "Warning: Skipping invalid JSON item in restaurant\n",
      "Warning: Skipping invalid JSON item in restaurant\n",
      "Warning: Skipping invalid JSON item in restaurant\n",
      "Warning: Skipping invalid JSON item in facility\n",
      "Warning: Skipping invalid JSON item in facility\n",
      "Warning: Skipping invalid JSON item in facility\n",
      "Warning: Skipping invalid JSON item in building\n",
      "数据已保存到 data/intent_train_data.json\n",
      "成功保存的类别: ['business', 'restaurant', 'facility', 'building', 'handbook']\n"
     ]
    }
   ],
   "source": [
    "with open(\"data/intent_generator_new.pkl\",\"rb\") as f:\n",
    "    intent_generator=pickle.load(f)\n",
    "intent_generator.save_intent_data(\"data/intent_train_data_new.json\")"
   ]
  },
  {
   "cell_type": "markdown",
   "id": "1606ca93",
   "metadata": {},
   "source": [
    "### Construct a class for entity recognition"
   ]
  },
  {
   "cell_type": "code",
   "execution_count": 39,
   "id": "c42218f5",
   "metadata": {},
   "outputs": [],
   "source": [
    "# 实体识别数据生成指令\n",
    "entity_instruction='''You are an expert NER (Named Entity Recognition) data generation assistant for a campus chatbot.\n",
    "Your task is to generate training data for entity recognition in Chinese queries.\n",
    "\n",
    "**Your Task:**\n",
    "Generate varied Chinese query examples that contain entities from the given categories and entity types.\n",
    "\n",
    "**Output Format:**\n",
    "Each generated item should be a JSON object with this exact structure:\n",
    "{\n",
    "    \"query\": \"I want to go to A3 library tomorrow morning\",\n",
    "    \"entities\": [\n",
    "        {\"entity_text\": \"tomorrow morning\", \"entity_label\": \"time\"},\n",
    "        {\"entity_text\": \"A3 library\", \"entity_label\": \"facility_name\"}\n",
    "    ]\n",
    "}\n",
    "\n",
    "**Entity Label Types:**\n",
    "- business_name: business name (e.g. KK便利店, KIMS SALON)\n",
    "- restaurant_name: restaurant name (e.g. 夏1城, 大树下)\n",
    "- facility_name: facility name (e.g. library, gym, swimming pool)\n",
    "- building_name: building name (e.g. B1 Activity Building, A Zone Teaching Building)\n",
    "- handbook_topic: handbook topic (e.g. birthday cake recommendation, campus clinic)\n",
    "- time: time expression (e.g. tomorrow morning, next Wednesday, tonight)\n",
    "- location: location expression (e.g. on campus, below the dormitory)\n",
    "\n",
    "**Instructions:**\n",
    "1. Generate natural Chinese queries that students would ask\n",
    "2. Include 1-3 entities per query\n",
    "3. Entities must match the provided entity names exactly\n",
    "4. Time and location entities can be flexible expressions\n",
    "5. Output valid JSON only, no additional text\n",
    "6. Each query should be realistic and contextually appropriate\n",
    "\n",
    "**Example:**\n",
    "{\n",
    "    \"query\": [\"What is the opening time of KIMS SALON tomorrow?\", \"What is the opening time of KIMS SALON tomorrow?\"],\n",
    "    \"entities\": [\n",
    "        {\"entity_text\": \"KIMS SALON\", \"entity_label\": \"business_name\"},\n",
    "        {\"entity_text\": \"tomorrow\", \"entity_label\": \"time\"}\n",
    "    ]\n",
    "}\n",
    "'''"
   ]
  },
  {
   "cell_type": "code",
   "execution_count": 40,
   "id": "ba0ec7a0",
   "metadata": {},
   "outputs": [],
   "source": [
    "class entity_data_generator:\n",
    "    def __init__(self, intent_lib_path=r\"data\\IE\\IE_lib.json\"):\n",
    "        self.data=json.load(open(intent_lib_path, \"r\", encoding=\"utf-8\"))\n",
    "        self.categories=list(self.data.keys())\n",
    "        \n",
    "        # Entity label mapping\n",
    "        self.entity_label_mapping={\n",
    "            \"business\": \"business_name\",\n",
    "            \"restaurant\": \"restaurant_name\", \n",
    "            \"facility\": \"facility_name\",\n",
    "            \"building\": \"building_name\",\n",
    "            \"handbook\": \"handbook_topic\",\n",
    "            \"time\": \"time\",\n",
    "            \"location\": \"location\"\n",
    "        }\n",
    "        \n",
    "        self.entity_responses={\n",
    "            category: None for category in self.categories\n",
    "        }\n",
    "    \n",
    "    def create_entity_prompt(self, category, num_query):\n",
    "        entity_label=self.entity_label_mapping[category]\n",
    "        entity_names=self.data[category][0]  \n",
    "        \n",
    "        message_set=[\n",
    "            {\"role\": \"system\", \"content\": entity_instruction}\n",
    "        ]\n",
    "        \n",
    "        # 为每个实体名称创建生成任务\n",
    "        for entity_name in entity_names:\n",
    "            prompt=f\"\"\"**Your Task:**\n",
    "Generate {num_query} English query examples containing the entity \"{entity_name}\".\n",
    "\n",
    "**Requirements:**\n",
    "1. Each query must contain \"{entity_name}\" as an entity\n",
    "2. Optionally include time/location entities for more realistic queries\n",
    "3. Cannot add new entities (exclude time and location) in the generated query!\n",
    "4. Output format:\n",
    "{{\n",
    "  \"query\": [\"query1\", \"query2\", \"query3\"],\n",
    "  \"entities\": [\n",
    "    {{\"entity_text\": \"entity_name\", \"entity_label\": \"entity_label\"}}\n",
    "  ]\n",
    "}}\n",
    "5. Output json snippet ONLY. Do not add any other text.\n",
    "\n",
    "**Entity to include:**\n",
    "- Entity: \"{entity_name}\"\n",
    "- Label: \"{entity_label}\"\n",
    "\"\"\"\n",
    "            message_set.append({\n",
    "                \"role\": \"user\",\n",
    "                \"content\": prompt\n",
    "            })\n",
    "        \n",
    "        return message_set\n",
    "    \n",
    "    def get_entity_response(self, category, num_query):\n",
    "        message_set=self.create_entity_prompt(category, num_query)\n",
    "        response_set=[]\n",
    "        \n",
    "        for msg in tqdm(message_set[1:], desc=f\"Generating entity data for {category}\"):\n",
    "\n",
    "            response=ollama.chat(model=model, messages=[\n",
    "                message_set[0], msg\n",
    "            ])[\"message\"][\"content\"]\n",
    "            \n",
    "            response=re.sub(\n",
    "                pattern=r\"```json\\n|\\n```|```\",\n",
    "                repl='',\n",
    "                string=response\n",
    "            )\n",
    "            \n",
    "            try:\n",
    "                json.loads(response)\n",
    "                response_set.append(response)\n",
    "            except json.JSONDecodeError:\n",
    "                print(f\"Warning: Invalid JSON response for {category}, skipping this item\")\n",
    "                continue\n",
    "            except Exception as e:\n",
    "                print(f\"Error generating response for {category}: {e}\")\n",
    "                continue\n",
    "        \n",
    "        self.entity_responses[category]=response_set\n",
    "    \n",
    "    def save_entity_data(self,file_path=\"data/train_data/entity_train_data.json\"):\n",
    "        # 使用写入模式而不是追加模式\n",
    "        with open(file_path,\"w\",encoding=\"utf-8\") as f:\n",
    "            f.write(\"{\\n\")\n",
    "            valid_categories=[]\n",
    "            \n",
    "            # 先过滤出有有效数据的类别\n",
    "            for category in self.categories:\n",
    "                if (self.entity_responses[category] is not None and \n",
    "                    len(self.entity_responses[category]) > 0):\n",
    "                    valid_categories.append(category)\n",
    "            \n",
    "            for i, category in enumerate(valid_categories):\n",
    "                f.write(f'\"{category}\":[\\n')\n",
    "                \n",
    "                # 过滤出有效的JSON数据项\n",
    "                valid_items=[]\n",
    "                for data_item in self.entity_responses[category]:\n",
    "                    try:\n",
    "                        # 验证JSON格式\n",
    "                        json.loads(data_item)\n",
    "                        valid_items.append(data_item)\n",
    "                    except json.JSONDecodeError:\n",
    "                        print(f\"Warning: Skipping invalid JSON item in {category}\")\n",
    "                        continue\n",
    "                \n",
    "                # 写入有效的数据项\n",
    "                for j, data_item in enumerate(valid_items):\n",
    "                    f.write(data_item)\n",
    "                    if j == len(valid_items) - 1:\n",
    "                        f.write(\"\\n\")\n",
    "                    else:\n",
    "                        f.write(\",\\n\")\n",
    "                \n",
    "                # 添加类别间的逗号\n",
    "                if i == len(valid_categories) - 1:\n",
    "                    f.write(\"]\\n\")\n",
    "                else:\n",
    "                    f.write(\"],\\n\")\n",
    "                    \n",
    "            f.write(\"}\")\n",
    "            \n",
    "        print(f\"Data saved to {file_path}\")\n",
    "        print(f\"Successfully saved categories: {valid_categories}\")\n",
    "        for category in self.categories:\n",
    "            if category not in valid_categories:\n",
    "                print(f\"Warning: no valid data for {category}\")\n"
   ]
  },
  {
   "cell_type": "code",
   "execution_count": 41,
   "id": "6a216e96",
   "metadata": {},
   "outputs": [],
   "source": [
    "# Create entity data generator\n",
    "entity_generator=entity_data_generator()"
   ]
  },
  {
   "cell_type": "markdown",
   "id": "ac50ee12",
   "metadata": {},
   "source": [
    "### Generate data for entity recognition"
   ]
  },
  {
   "cell_type": "code",
   "execution_count": 42,
   "id": "5d327c53",
   "metadata": {},
   "outputs": [
    {
     "data": {
      "application/vnd.jupyter.widget-view+json": {
       "model_id": "f63ecb3f7ddc4ce698af5e865c16ac93",
       "version_major": 2,
       "version_minor": 0
      },
      "text/plain": [
       "Generating data:   0%|          | 0/5 [00:00<?, ?it/s]"
      ]
     },
     "metadata": {},
     "output_type": "display_data"
    },
    {
     "data": {
      "application/vnd.jupyter.widget-view+json": {
       "model_id": "80c6fbc3476e43fb919a39416ca6d9e1",
       "version_major": 2,
       "version_minor": 0
      },
      "text/plain": [
       "Generating entity data for business:   0%|          | 0/13 [00:00<?, ?it/s]"
      ]
     },
     "metadata": {},
     "output_type": "display_data"
    },
    {
     "name": "stdout",
     "output_type": "stream",
     "text": [
      "Warning: Invalid JSON response for business, skipping this item\n",
      "Warning: Invalid JSON response for business, skipping this item\n",
      "Warning: Invalid JSON response for business, skipping this item\n"
     ]
    },
    {
     "data": {
      "application/vnd.jupyter.widget-view+json": {
       "model_id": "305d1ee40824402ea8f20e15fe6b8a48",
       "version_major": 2,
       "version_minor": 0
      },
      "text/plain": [
       "Generating entity data for restaurant:   0%|          | 0/68 [00:00<?, ?it/s]"
      ]
     },
     "metadata": {},
     "output_type": "display_data"
    },
    {
     "name": "stdout",
     "output_type": "stream",
     "text": [
      "Warning: Invalid JSON response for restaurant, skipping this item\n",
      "Warning: Invalid JSON response for restaurant, skipping this item\n",
      "Warning: Invalid JSON response for restaurant, skipping this item\n",
      "Warning: Invalid JSON response for restaurant, skipping this item\n",
      "Warning: Invalid JSON response for restaurant, skipping this item\n",
      "Warning: Invalid JSON response for restaurant, skipping this item\n"
     ]
    },
    {
     "data": {
      "application/vnd.jupyter.widget-view+json": {
       "model_id": "5a555058e06e482e85ceafde4d0446bd",
       "version_major": 2,
       "version_minor": 0
      },
      "text/plain": [
       "Generating entity data for facility:   0%|          | 0/20 [00:00<?, ?it/s]"
      ]
     },
     "metadata": {},
     "output_type": "display_data"
    },
    {
     "name": "stdout",
     "output_type": "stream",
     "text": [
      "Warning: Invalid JSON response for facility, skipping this item\n",
      "Warning: Invalid JSON response for facility, skipping this item\n",
      "Warning: Invalid JSON response for facility, skipping this item\n"
     ]
    },
    {
     "data": {
      "application/vnd.jupyter.widget-view+json": {
       "model_id": "209d32104fa74f8e8413384f2b990960",
       "version_major": 2,
       "version_minor": 0
      },
      "text/plain": [
       "Generating entity data for building:   0%|          | 0/5 [00:00<?, ?it/s]"
      ]
     },
     "metadata": {},
     "output_type": "display_data"
    },
    {
     "name": "stdout",
     "output_type": "stream",
     "text": [
      "Warning: Invalid JSON response for building, skipping this item\n",
      "Warning: Invalid JSON response for building, skipping this item\n",
      "Warning: Invalid JSON response for building, skipping this item\n"
     ]
    },
    {
     "data": {
      "application/vnd.jupyter.widget-view+json": {
       "model_id": "509fd96e97f04cd3b924b11af454ca4a",
       "version_major": 2,
       "version_minor": 0
      },
      "text/plain": [
       "Generating entity data for handbook:   0%|          | 0/35 [00:00<?, ?it/s]"
      ]
     },
     "metadata": {},
     "output_type": "display_data"
    },
    {
     "name": "stdout",
     "output_type": "stream",
     "text": [
      "Warning: Invalid JSON response for handbook, skipping this item\n",
      "Warning: Invalid JSON response for handbook, skipping this item\n",
      "Warning: Invalid JSON response for handbook, skipping this item\n",
      "Warning: Invalid JSON response for handbook, skipping this item\n",
      "Warning: Invalid JSON response for handbook, skipping this item\n",
      "Warning: Invalid JSON response for handbook, skipping this item\n",
      "Warning: Invalid JSON response for handbook, skipping this item\n",
      "Warning: Invalid JSON response for handbook, skipping this item\n",
      "Warning: Invalid JSON response for handbook, skipping this item\n",
      "Warning: Invalid JSON response for handbook, skipping this item\n"
     ]
    }
   ],
   "source": [
    "for c in tqdm(entity_generator.categories,desc=\"Generating data\"):\n",
    "    entity_generator.get_entity_response(c,4)\n",
    "with open(\"data/entity_generator.pkl\", \"wb\") as f:\n",
    "    pickle.dump(entity_generator, f)"
   ]
  },
  {
   "cell_type": "code",
   "execution_count": 43,
   "id": "71cae452",
   "metadata": {},
   "outputs": [
    {
     "name": "stdout",
     "output_type": "stream",
     "text": [
      "Data saved to data/train_data/entity_train_data.json\n",
      "Successfully saved categories: ['business', 'restaurant', 'facility', 'building', 'handbook']\n"
     ]
    }
   ],
   "source": [
    "entity_generator.save_entity_data()"
   ]
  },
  {
   "cell_type": "code",
   "execution_count": 44,
   "id": "c6406b22",
   "metadata": {},
   "outputs": [
    {
     "data": {
      "application/vnd.jupyter.widget-view+json": {
       "model_id": "634d991a3ebe42a5ae6f14a4201f9651",
       "version_major": 2,
       "version_minor": 0
      },
      "text/plain": [
       "Generating entity data for restaurant:   0%|          | 0/68 [00:00<?, ?it/s]"
      ]
     },
     "metadata": {},
     "output_type": "display_data"
    },
    {
     "name": "stdout",
     "output_type": "stream",
     "text": [
      "Warning: Invalid JSON response for restaurant, skipping this item\n",
      "Warning: Invalid JSON response for restaurant, skipping this item\n",
      "生成的示例数据：\n",
      "\n",
      "示例 1:\n",
      "{\n",
      "  \"query\": [\n",
      "    \"What is the opening time of 夏1城 tomorrow?\",\n",
      "    \"Is 夏1城 open on Sundays?\",\n",
      "    \"Can I reserve a table at 夏1城 tonight?\"\n",
      "  ],\n",
      "  \"entities\": [\n",
      "    {\n",
      "      \"entity_text\": \"夏1城\",\n",
      "      \"entity_label\": \"restaurant_name\"\n",
      "    },\n",
      "    {\n",
      "      \"entity_text\": \"tomorrow\",\n",
      "      \"entity_label\": \"time\"\n",
      "    }\n",
      "  ]\n",
      "}\n",
      "\n",
      "示例 2:\n",
      "{\n",
      "  \"query\": [\n",
      "    \"I want to book a table at Tuk Tuk Thai&Taro tonight.\",\n",
      "    \"What is the phone number of Tuk Tuk Thai&Taro?\"\n",
      "  ],\n",
      "  \"entities\": [\n",
      "    {\n",
      "      \"entity_text\": \"Tuk Tuk Thai&Taro\",\n",
      "      \"entity_label\": \"restaurant_name\"\n",
      "    }\n",
      "  ]\n",
      "}\n",
      "\n",
      "示例 3:\n",
      "{\n",
      "  \"query\": [\n",
      "    \"What is the menu of 大树下?\",\n",
      "    \"I want to order food from 大树下 tonight\",\n",
      "    \"Can I make a reservation at 大树下 tomorrow night?\"\n",
      "  ],\n",
      "  \"entities\": [\n",
      "    {\n",
      "      \"entity_text\": \"大树下\",\n",
      "      \"entity_label\": \"restaurant_name\"\n",
      "    }\n",
      "  ]\n",
      "}\n"
     ]
    }
   ],
   "source": [
    "# 测试为餐厅类别生成数据\n",
    "test_generator=entity_data_generator()\n",
    "test_generator.get_entity_response(\"restaurant\", 2)\n",
    "\n",
    "# 查看生成的数据\n",
    "if test_generator.entity_responses[\"restaurant\"]:\n",
    "    print(\"生成的示例数据：\")\n",
    "    for i, item in enumerate(test_generator.entity_responses[\"restaurant\"][:3]):\n",
    "        print(f\"\\n示例 {i+1}:\")\n",
    "        try:\n",
    "            parsed=json.loads(item)\n",
    "            print(json.dumps(parsed, ensure_ascii=False, indent=2))\n",
    "        except json.JSONDecodeError:\n",
    "            print(f\"JSON解析错误: {item}\")\n",
    "else:\n",
    "    print(\"没有生成数据\")\n"
   ]
  },
  {
   "cell_type": "code",
   "execution_count": 45,
   "id": "56b91129",
   "metadata": {},
   "outputs": [],
   "source": [
    "def validate_entity_data(file_path):\n",
    "    \"\"\"验证生成的实体数据质量\"\"\"\n",
    "    with open(file_path, \"r\", encoding=\"utf-8\") as f:\n",
    "        data=json.load(f)\n",
    "    \n",
    "    print(f\"总共加载了 {len(data)} 条数据\")\n",
    "    \n",
    "    # 统计各类实体\n",
    "    entity_stats={}\n",
    "    query_lengths=[]\n",
    "    entity_counts=[]\n",
    "    \n",
    "    valid_count=0\n",
    "    invalid_items=[]\n",
    "    \n",
    "    for i, item in enumerate(data):\n",
    "        try:\n",
    "            # 检查必需字段\n",
    "            if 'query' not in item or 'entities' not in item:\n",
    "                invalid_items.append(f\"第{i+1}条: 缺少必需字段\")\n",
    "                continue\n",
    "                \n",
    "            query=item['query']\n",
    "            entities=item['entities']\n",
    "            \n",
    "            # 检查query是否为字符串\n",
    "            if not isinstance(query, str) or len(query.strip()) == 0:\n",
    "                invalid_items.append(f\"第{i+1}条: query无效\")\n",
    "                continue\n",
    "                \n",
    "            # 检查entities是否为列表\n",
    "            if not isinstance(entities, list) or len(entities) == 0:\n",
    "                invalid_items.append(f\"第{i+1}条: entities无效\")\n",
    "                continue\n",
    "                \n",
    "            # 检查每个entity的格式\n",
    "            valid_entities=True\n",
    "            for entity in entities:\n",
    "                if not isinstance(entity, dict):\n",
    "                    invalid_items.append(f\"第{i+1}条: entity不是字典格式\")\n",
    "                    valid_entities=False\n",
    "                    break\n",
    "                    \n",
    "                if 'entity_text' not in entity or 'entity_label' not in entity:\n",
    "                    invalid_items.append(f\"第{i+1}条: entity缺少必需字段\")\n",
    "                    valid_entities=False\n",
    "                    break\n",
    "                    \n",
    "                entity_text=entity['entity_text']\n",
    "                entity_label=entity['entity_label']\n",
    "                \n",
    "                # 检查实体文本是否在查询中\n",
    "                if entity_text not in query:\n",
    "                    invalid_items.append(f\"第{i+1}条: 实体文本'{entity_text}'不在查询中\")\n",
    "                    valid_entities=False\n",
    "                    break\n",
    "                    \n",
    "                # 统计实体类型\n",
    "                entity_stats[entity_label]=entity_stats.get(entity_label, 0) + 1\n",
    "            \n",
    "            if valid_entities:\n",
    "                valid_count += 1\n",
    "                query_lengths.append(len(query))\n",
    "                entity_counts.append(len(entities))\n",
    "                \n",
    "        except Exception as e:\n",
    "            invalid_items.append(f\"第{i+1}条: 处理错误 - {str(e)}\")\n",
    "    \n",
    "    print(f\"\\n数据质量报告:\")\n",
    "    print(f\"有效数据: {valid_count} 条\")\n",
    "    print(f\"无效数据: {len(invalid_items)} 条\")\n",
    "    \n",
    "    if invalid_items:\n",
    "        print(f\"\\n前5个无效数据问题:\")\n",
    "        for issue in invalid_items[:5]:\n",
    "            print(f\"  - {issue}\")\n",
    "    \n",
    "    if query_lengths:\n",
    "        print(f\"\\n查询长度统计:\")\n",
    "        print(f\"  平均长度: {sum(query_lengths)/len(query_lengths):.1f} 字符\")\n",
    "        print(f\"  最短: {min(query_lengths)} 字符\")\n",
    "        print(f\"  最长: {max(query_lengths)} 字符\")\n",
    "        \n",
    "        print(f\"\\n每条数据实体数量:\")\n",
    "        print(f\"  平均: {sum(entity_counts)/len(entity_counts):.1f} 个\")\n",
    "        print(f\"  最少: {min(entity_counts)} 个\")\n",
    "        print(f\"  最多: {max(entity_counts)} 个\")\n",
    "    \n",
    "    print(f\"\\n实体类型统计:\")\n",
    "    for label, count in sorted(entity_stats.items()):\n",
    "        print(f\"  {label}: {count} 个实体\")\n",
    "    \n",
    "    return valid_count, len(invalid_items), entity_stats\n",
    "\n",
    "# 使用示例（生成数据后运行）\n",
    "# validate_entity_data(\"data/train_data/entity_train_data.json\")\n"
   ]
  },
  {
   "cell_type": "markdown",
   "id": "350050a6",
   "metadata": {
    "vscode": {
     "languageId": "raw"
    }
   },
   "source": [
    "## 实体识别数据生成器使用说明\n",
    "\n",
    "### 功能特点\n",
    "1. **自动化生成**: 基于intent_lib.json中定义的实体自动生成实体识别训练数据\n",
    "2. **标准格式**: 生成符合NER训练要求的JSON格式数据\n",
    "3. **多实体支持**: 每个查询可包含多个实体（时间、地点等）\n",
    "4. **质量控制**: 内置数据验证和质量检查功能\n",
    "\n",
    "### 生成的数据格式\n",
    "```json\n",
    "{\n",
    "    \"query\": \"明天上午我想去A3图书馆还书\",\n",
    "    \"entities\": [\n",
    "        {\"entity_text\": \"明天上午\", \"entity_label\": \"time\"},\n",
    "        {\"entity_text\": \"A3图书馆\", \"entity_label\": \"facility_name\"}\n",
    "    ]\n",
    "}\n",
    "```\n",
    "\n",
    "### 支持的实体类型\n",
    "- `business_name`: 商铺名称\n",
    "- `restaurant_name`: 餐厅名称\n",
    "- `facility_name`: 设施名称\n",
    "- `building_name`: 建筑名称\n",
    "- `handbook_topic`: 手册主题\n",
    "- `time`: 时间表达\n",
    "- `location`: 地点表达\n",
    "\n",
    "### 使用步骤\n",
    "1. 创建生成器实例: `entity_generator=entity_data_generator()`\n",
    "2. 生成数据: `entity_generator.generate_all_categories(num_query_per_entity=3)`\n",
    "3. 保存数据: `entity_generator.save_entity_data(\"path/to/file.json\")`\n",
    "4. 验证数据: `validate_entity_data(\"path/to/file.json\")`\n"
   ]
  }
 ],
 "metadata": {
  "kernelspec": {
   "display_name": "Python 3",
   "language": "python",
   "name": "python3"
  },
  "language_info": {
   "codemirror_mode": {
    "name": "ipython",
    "version": 3
   },
   "file_extension": ".py",
   "mimetype": "text/x-python",
   "name": "python",
   "nbconvert_exporter": "python",
   "pygments_lexer": "ipython3",
   "version": "3.12.6"
  }
 },
 "nbformat": 4,
 "nbformat_minor": 5
}
